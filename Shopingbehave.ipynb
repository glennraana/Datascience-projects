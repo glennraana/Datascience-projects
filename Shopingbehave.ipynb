{
 "cells": [
  {
   "cell_type": "markdown",
   "id": "d4195bfd-cd0e-42f7-8c20-95a963038515",
   "metadata": {},
   "source": [
    "# Shopping behavior \n",
    "\n",
    "I am making a project with the data set : Consumer buying behavior from Kaggel.com.\n",
    "\n",
    "### Problem\n",
    "The problem/project is to see if we can predict shopping behavior based on : Income, Age and who of the customers are most likely to shop. The dataset are based on data from customers that have seen an advertisement and did a buy from that. we shal make a predictive model to analyse if we can predict who is most likley to shop. We also want to present findings in a Tablaou dashboard\n",
    "\n",
    "### The dataset/Column Descriptions: :\n",
    "* Age\n",
    "* EstimatedSalary\n",
    "* Purchased (1 = sale, 0 = no sale) \n",
    "\n"
   ]
  },
  {
   "cell_type": "markdown",
   "id": "4533f8eb-f5f6-47f4-b805-3bee8e5bfb5a",
   "metadata": {},
   "source": [
    "### 1. Getting the data ready "
   ]
  },
  {
   "cell_type": "code",
   "execution_count": 1,
   "id": "c67574f5-abd2-4988-b051-817b20bc755c",
   "metadata": {},
   "outputs": [],
   "source": [
    "# import functions that we want to use. \n",
    "import pandas as pd\n",
    "import numpy as np\n",
    "import matplotlib.pyplot as plt "
   ]
  },
  {
   "cell_type": "code",
   "execution_count": 2,
   "id": "7a76b97f-041a-42ef-a2a4-f1ee6e31e7cd",
   "metadata": {},
   "outputs": [
    {
     "data": {
      "text/html": [
       "<div>\n",
       "<style scoped>\n",
       "    .dataframe tbody tr th:only-of-type {\n",
       "        vertical-align: middle;\n",
       "    }\n",
       "\n",
       "    .dataframe tbody tr th {\n",
       "        vertical-align: top;\n",
       "    }\n",
       "\n",
       "    .dataframe thead th {\n",
       "        text-align: right;\n",
       "    }\n",
       "</style>\n",
       "<table border=\"1\" class=\"dataframe\">\n",
       "  <thead>\n",
       "    <tr style=\"text-align: right;\">\n",
       "      <th></th>\n",
       "      <th>Age</th>\n",
       "      <th>EstimatedSalary</th>\n",
       "      <th>Purchased</th>\n",
       "    </tr>\n",
       "  </thead>\n",
       "  <tbody>\n",
       "    <tr>\n",
       "      <th>0</th>\n",
       "      <td>19</td>\n",
       "      <td>19000</td>\n",
       "      <td>0</td>\n",
       "    </tr>\n",
       "    <tr>\n",
       "      <th>1</th>\n",
       "      <td>35</td>\n",
       "      <td>20000</td>\n",
       "      <td>0</td>\n",
       "    </tr>\n",
       "    <tr>\n",
       "      <th>2</th>\n",
       "      <td>26</td>\n",
       "      <td>43000</td>\n",
       "      <td>0</td>\n",
       "    </tr>\n",
       "    <tr>\n",
       "      <th>3</th>\n",
       "      <td>27</td>\n",
       "      <td>57000</td>\n",
       "      <td>0</td>\n",
       "    </tr>\n",
       "    <tr>\n",
       "      <th>4</th>\n",
       "      <td>19</td>\n",
       "      <td>76000</td>\n",
       "      <td>0</td>\n",
       "    </tr>\n",
       "  </tbody>\n",
       "</table>\n",
       "</div>"
      ],
      "text/plain": [
       "   Age  EstimatedSalary  Purchased\n",
       "0   19            19000          0\n",
       "1   35            20000          0\n",
       "2   26            43000          0\n",
       "3   27            57000          0\n",
       "4   19            76000          0"
      ]
     },
     "execution_count": 2,
     "metadata": {},
     "output_type": "execute_result"
    }
   ],
   "source": [
    "# importing the dataset and show the data \n",
    "data = pd.read_csv(\"social_ads.csv\")\n",
    "data.head()\n"
   ]
  },
  {
   "cell_type": "code",
   "execution_count": 3,
   "id": "fae935d7-3a5d-4fb6-8513-b2817bbf96c6",
   "metadata": {},
   "outputs": [
    {
     "data": {
      "text/html": [
       "<div>\n",
       "<style scoped>\n",
       "    .dataframe tbody tr th:only-of-type {\n",
       "        vertical-align: middle;\n",
       "    }\n",
       "\n",
       "    .dataframe tbody tr th {\n",
       "        vertical-align: top;\n",
       "    }\n",
       "\n",
       "    .dataframe thead th {\n",
       "        text-align: right;\n",
       "    }\n",
       "</style>\n",
       "<table border=\"1\" class=\"dataframe\">\n",
       "  <thead>\n",
       "    <tr style=\"text-align: right;\">\n",
       "      <th></th>\n",
       "      <th>Age</th>\n",
       "      <th>EstimatedSalary</th>\n",
       "      <th>Purchased</th>\n",
       "    </tr>\n",
       "  </thead>\n",
       "  <tbody>\n",
       "    <tr>\n",
       "      <th>count</th>\n",
       "      <td>400.000000</td>\n",
       "      <td>400.000000</td>\n",
       "      <td>400.000000</td>\n",
       "    </tr>\n",
       "    <tr>\n",
       "      <th>mean</th>\n",
       "      <td>37.655000</td>\n",
       "      <td>69742.500000</td>\n",
       "      <td>0.357500</td>\n",
       "    </tr>\n",
       "    <tr>\n",
       "      <th>std</th>\n",
       "      <td>10.482877</td>\n",
       "      <td>34096.960282</td>\n",
       "      <td>0.479864</td>\n",
       "    </tr>\n",
       "    <tr>\n",
       "      <th>min</th>\n",
       "      <td>18.000000</td>\n",
       "      <td>15000.000000</td>\n",
       "      <td>0.000000</td>\n",
       "    </tr>\n",
       "    <tr>\n",
       "      <th>25%</th>\n",
       "      <td>29.750000</td>\n",
       "      <td>43000.000000</td>\n",
       "      <td>0.000000</td>\n",
       "    </tr>\n",
       "    <tr>\n",
       "      <th>50%</th>\n",
       "      <td>37.000000</td>\n",
       "      <td>70000.000000</td>\n",
       "      <td>0.000000</td>\n",
       "    </tr>\n",
       "    <tr>\n",
       "      <th>75%</th>\n",
       "      <td>46.000000</td>\n",
       "      <td>88000.000000</td>\n",
       "      <td>1.000000</td>\n",
       "    </tr>\n",
       "    <tr>\n",
       "      <th>max</th>\n",
       "      <td>60.000000</td>\n",
       "      <td>150000.000000</td>\n",
       "      <td>1.000000</td>\n",
       "    </tr>\n",
       "  </tbody>\n",
       "</table>\n",
       "</div>"
      ],
      "text/plain": [
       "              Age  EstimatedSalary   Purchased\n",
       "count  400.000000       400.000000  400.000000\n",
       "mean    37.655000     69742.500000    0.357500\n",
       "std     10.482877     34096.960282    0.479864\n",
       "min     18.000000     15000.000000    0.000000\n",
       "25%     29.750000     43000.000000    0.000000\n",
       "50%     37.000000     70000.000000    0.000000\n",
       "75%     46.000000     88000.000000    1.000000\n",
       "max     60.000000    150000.000000    1.000000"
      ]
     },
     "execution_count": 3,
     "metadata": {},
     "output_type": "execute_result"
    }
   ],
   "source": [
    "# See som key data of the dataset\n",
    "data.describe()"
   ]
  },
  {
   "cell_type": "code",
   "execution_count": 4,
   "id": "e4a0045d-3cea-452f-ae50-ebc76acff66f",
   "metadata": {},
   "outputs": [
    {
     "name": "stdout",
     "output_type": "stream",
     "text": [
      "<class 'pandas.core.frame.DataFrame'>\n",
      "RangeIndex: 400 entries, 0 to 399\n",
      "Data columns (total 3 columns):\n",
      " #   Column           Non-Null Count  Dtype\n",
      "---  ------           --------------  -----\n",
      " 0   Age              400 non-null    int64\n",
      " 1   EstimatedSalary  400 non-null    int64\n",
      " 2   Purchased        400 non-null    int64\n",
      "dtypes: int64(3)\n",
      "memory usage: 9.5 KB\n"
     ]
    }
   ],
   "source": [
    "# Cheek the type of data, and see if there are any missing data? \n",
    "data.info()"
   ]
  },
  {
   "cell_type": "markdown",
   "id": "82a795d5-8353-4e44-8f01-b0261a0a5aa3",
   "metadata": {},
   "source": [
    "### Some quick analyses of the data! \n",
    "* the age is from 18-60 years old in the dataset.\n",
    "* the mean age of the dataset is 37.5 years old\n",
    "* The max estimated sallary of the asked people is 150 000\n",
    "* The min estimated sallary of the asked people is 15 000\n",
    "* The mean sallary of the asked people is 69 742, 5\n",
    "* We have 400 rows of data in our dataset \n",
    "\n"
   ]
  },
  {
   "cell_type": "markdown",
   "id": "69ee4193-d890-4deb-b178-386b9acda789",
   "metadata": {},
   "source": [
    "#### More Analyses "
   ]
  },
  {
   "cell_type": "code",
   "execution_count": 5,
   "id": "54cb73d3-82a2-408c-94dc-b03ea634efe2",
   "metadata": {},
   "outputs": [
    {
     "name": "stdout",
     "output_type": "stream",
     "text": [
      "Empty DataFrame\n",
      "Columns: [Age, EstimatedSalary, Purchased]\n",
      "Index: []\n"
     ]
    }
   ],
   "source": [
    "# We want to assure that the mean arent wrong, if there is a big Outlier in the sallary, it can effect the Mean drastic,\n",
    "# we want to test the z score to see if many points away from the mean\n",
    "\n",
    "from scipy import stats\n",
    "import numpy as np\n",
    "\n",
    "z_scores = np.abs(stats.zscore(data['EstimatedSalary']))\n",
    "outliers = data[(z_scores > 3)]\n",
    "print (outliers)\n",
    "\n"
   ]
  },
  {
   "cell_type": "markdown",
   "id": "69dc094a-e628-4e48-9289-35e32afe859f",
   "metadata": {},
   "source": [
    "##### We dont have any ouliers in the sallery collum regarding our test at the z-score"
   ]
  },
  {
   "cell_type": "code",
   "execution_count": 6,
   "id": "f17a9188-8ff7-4010-a889-d61bc1e355a9",
   "metadata": {},
   "outputs": [],
   "source": [
    "# We do another test, we also cheek a scatterplot "
   ]
  },
  {
   "cell_type": "code",
   "execution_count": 7,
   "id": "f9a260ce-0263-4002-b08a-1ed61d79d52f",
   "metadata": {},
   "outputs": [
    {
     "data": {
      "image/png": "[encoded data removed]",
      "text/plain": [
       "<Figure size 640x480 with 1 Axes>"
      ]
     },
     "metadata": {},
     "output_type": "display_data"
    }
   ],
   "source": [
    "import matplotlib.pyplot as plt\n",
    "\n",
    "plt.scatter(data['Age'], data['EstimatedSalary'])\n",
    "plt.title('Scatter plot of Age vs Income')\n",
    "plt.xlabel('Age')\n",
    "plt.ylabel('Income')\n",
    "plt.show()\n"
   ]
  },
  {
   "cell_type": "markdown",
   "id": "4e25d478-67a3-449e-b9ab-bdc06af881c8",
   "metadata": {},
   "source": [
    "##### We dont have any ouliers in the sallery collum regarding our test at the scatterplot"
   ]
  },
  {
   "cell_type": "markdown",
   "id": "d7e4d5e8-206e-4a0b-9486-20cba9b93054",
   "metadata": {},
   "source": [
    "### Making a new dataframe and do some more analyzez of the people that did buy\n",
    "From a busines perspective is is interesting to find out who the people are, what diference them from the people tht did not buy"
   ]
  },
  {
   "cell_type": "code",
   "execution_count": 8,
   "id": "f3b75b9d-4916-4ab3-bb16-a577502a596a",
   "metadata": {},
   "outputs": [],
   "source": [
    "# We want to make a new dataframe from people that actual has bought somthing.\n",
    "data_bougth = data[data[\"Purchased\"] == 1]"
   ]
  },
  {
   "cell_type": "code",
   "execution_count": 9,
   "id": "e40d365e-67a8-4d1a-80b3-0ce3c356c8c1",
   "metadata": {},
   "outputs": [
    {
     "name": "stdout",
     "output_type": "stream",
     "text": [
      "<class 'pandas.core.frame.DataFrame'>\n",
      "Index: 143 entries, 7 to 399\n",
      "Data columns (total 3 columns):\n",
      " #   Column           Non-Null Count  Dtype\n",
      "---  ------           --------------  -----\n",
      " 0   Age              143 non-null    int64\n",
      " 1   EstimatedSalary  143 non-null    int64\n",
      " 2   Purchased        143 non-null    int64\n",
      "dtypes: int64(3)\n",
      "memory usage: 4.5 KB\n"
     ]
    }
   ],
   "source": [
    "data_bougth.info()"
   ]
  },
  {
   "cell_type": "code",
   "execution_count": 10,
   "id": "f882497e-2b9c-4ef4-9b4e-ce1e411460d3",
   "metadata": {},
   "outputs": [
    {
     "name": "stdout",
     "output_type": "stream",
     "text": [
      " 35.75% of the dataset has Bought after advertising\n"
     ]
    }
   ],
   "source": [
    "# We want to find out how many percent of the dataset that did buy after the campain  \n",
    "percent = len(data_bougth.index) * 100 / len(data.index)\n",
    "print (f\" {percent}% of the dataset has Bought after advertising\")"
   ]
  },
  {
   "cell_type": "markdown",
   "id": "f2ebc44b-6e91-4e61-aeff-d3eb95a8ddba",
   "metadata": {},
   "source": [
    "#### We also plot the percent in a pie plot for visualization "
   ]
  },
  {
   "cell_type": "code",
   "execution_count": 11,
   "id": "0eeef39b-769f-4a29-b74d-8e6ee212d9c3",
   "metadata": {},
   "outputs": [
    {
     "data": {
      "image/png": "[encoded data removed]",
      "text/plain": [
       "<Figure size 640x480 with 1 Axes>"
      ]
     },
     "metadata": {},
     "output_type": "display_data"
    }
   ],
   "source": [
    "import matplotlib.pyplot as plt\n",
    "\n",
    "\n",
    "total_value = len(data.index)\n",
    "percent_of_total = 35.75  \n",
    "\n",
    "# Calculate the actual value from the percentage\n",
    "actual_value = total_value * (percent_of_total / 100)\n",
    "\n",
    "# Create labels for the pie chart\n",
    "labels = ['Percent Bought', 'Not Bought']\n",
    "\n",
    "# Create values for the pie chart\n",
    "values = [actual_value, total_value - actual_value]\n",
    "\n",
    "# Create the pie chart\n",
    "fig, ax = plt.subplots()\n",
    "ax.pie(values, labels=labels, autopct='%.1f%%', shadow=True)\n",
    "\n",
    "# Add a title\n",
    "plt.title('Percent bought VS Percent not bought from campain  ')\n",
    "\n",
    "# Show the plot\n",
    "plt.show()\n"
   ]
  },
  {
   "cell_type": "code",
   "execution_count": 12,
   "id": "f0b8a463-e570-485a-a690-76d42f53b3e4",
   "metadata": {},
   "outputs": [
    {
     "data": {
      "text/html": [
       "<div>\n",
       "<style scoped>\n",
       "    .dataframe tbody tr th:only-of-type {\n",
       "        vertical-align: middle;\n",
       "    }\n",
       "\n",
       "    .dataframe tbody tr th {\n",
       "        vertical-align: top;\n",
       "    }\n",
       "\n",
       "    .dataframe thead th {\n",
       "        text-align: right;\n",
       "    }\n",
       "</style>\n",
       "<table border=\"1\" class=\"dataframe\">\n",
       "  <thead>\n",
       "    <tr style=\"text-align: right;\">\n",
       "      <th></th>\n",
       "      <th>Age</th>\n",
       "      <th>EstimatedSalary</th>\n",
       "      <th>Purchased</th>\n",
       "    </tr>\n",
       "  </thead>\n",
       "  <tbody>\n",
       "    <tr>\n",
       "      <th>count</th>\n",
       "      <td>143.000000</td>\n",
       "      <td>143.000000</td>\n",
       "      <td>143.0</td>\n",
       "    </tr>\n",
       "    <tr>\n",
       "      <th>mean</th>\n",
       "      <td>46.391608</td>\n",
       "      <td>86272.727273</td>\n",
       "      <td>1.0</td>\n",
       "    </tr>\n",
       "    <tr>\n",
       "      <th>std</th>\n",
       "      <td>8.612172</td>\n",
       "      <td>42064.200064</td>\n",
       "      <td>0.0</td>\n",
       "    </tr>\n",
       "    <tr>\n",
       "      <th>min</th>\n",
       "      <td>27.000000</td>\n",
       "      <td>20000.000000</td>\n",
       "      <td>1.0</td>\n",
       "    </tr>\n",
       "    <tr>\n",
       "      <th>25%</th>\n",
       "      <td>39.500000</td>\n",
       "      <td>41000.000000</td>\n",
       "      <td>1.0</td>\n",
       "    </tr>\n",
       "    <tr>\n",
       "      <th>50%</th>\n",
       "      <td>47.000000</td>\n",
       "      <td>90000.000000</td>\n",
       "      <td>1.0</td>\n",
       "    </tr>\n",
       "    <tr>\n",
       "      <th>75%</th>\n",
       "      <td>53.000000</td>\n",
       "      <td>122500.000000</td>\n",
       "      <td>1.0</td>\n",
       "    </tr>\n",
       "    <tr>\n",
       "      <th>max</th>\n",
       "      <td>60.000000</td>\n",
       "      <td>150000.000000</td>\n",
       "      <td>1.0</td>\n",
       "    </tr>\n",
       "  </tbody>\n",
       "</table>\n",
       "</div>"
      ],
      "text/plain": [
       "              Age  EstimatedSalary  Purchased\n",
       "count  143.000000       143.000000      143.0\n",
       "mean    46.391608     86272.727273        1.0\n",
       "std      8.612172     42064.200064        0.0\n",
       "min     27.000000     20000.000000        1.0\n",
       "25%     39.500000     41000.000000        1.0\n",
       "50%     47.000000     90000.000000        1.0\n",
       "75%     53.000000    122500.000000        1.0\n",
       "max     60.000000    150000.000000        1.0"
      ]
     },
     "execution_count": 12,
     "metadata": {},
     "output_type": "execute_result"
    }
   ],
   "source": [
    "data_bougth.describe()"
   ]
  },
  {
   "cell_type": "markdown",
   "id": "b0441c80-4da0-47f5-9eee-236c7ae98ed3",
   "metadata": {},
   "source": [
    "### Also cheeking the Median\n",
    "i think the mean sallary is a little high so i also want to see if the median is a bether fit for the data\n"
   ]
  },
  {
   "cell_type": "code",
   "execution_count": 57,
   "id": "75bfa781-76eb-48be-b068-5470d4d56be8",
   "metadata": {},
   "outputs": [
    {
     "name": "stdout",
     "output_type": "stream",
     "text": [
      "the median value og Estimated sallary is:70000.0\n"
     ]
    }
   ],
   "source": [
    "median_value = data[\"EstimatedSalary\"].median()\n",
    "print(f\"the median value og Estimated sallary is:{median_value}\")\n"
   ]
  },
  {
   "cell_type": "markdown",
   "id": "4eab55fa-3b4c-44f0-baf9-c1a25e4581c5",
   "metadata": {},
   "source": [
    "#### We want to plot a Histogram wfrom the Estimated income and show the median and mean to get a bether understanding of Outliers "
   ]
  },
  {
   "cell_type": "code",
   "execution_count": 64,
   "id": "d679a57a-1756-4fdf-b6dc-704fa8f690d6",
   "metadata": {},
   "outputs": [
    {
     "data": {
      "image/png": "[encoded data removed]",
      "text/plain": [
       "<Figure size 640x480 with 1 Axes>"
      ]
     },
     "metadata": {},
     "output_type": "display_data"
    }
   ],
   "source": [
    "mean = 86272.72\n",
    "median = 70000.0\n",
    "#column_name = data[\"EstimatedSalary\"]\n",
    "\n",
    "# Create a histogram for the 'Income' column\n",
    "plt.hist(data[\"EstimatedSalary\"],bins=20, edgecolor='black', color='skyblue')\n",
    "\n",
    "# Add vertical lines for mean and median\n",
    "plt.axvline(x=mean, color='red', linestyle='--', label='Mean')\n",
    "plt.axvline(x=median, color='green', linestyle='-.', label='Median')\n",
    "\n",
    "# Customize the plot\n",
    "plt.title(\"Histogram of Estimated Sallary with Mean and Median\")\n",
    "plt.xlabel(\"Estimated Sallary\")\n",
    "plt.ylabel(\"Frequencies\")\n",
    "plt.legend()\n",
    "\n",
    "# Show the plot\n",
    "plt.show()\n"
   ]
  },
  {
   "cell_type": "code",
   "execution_count": 71,
   "id": "848bbd6b-2ca1-4866-9be9-6a942cdb84be",
   "metadata": {},
   "outputs": [
    {
     "name": "stdout",
     "output_type": "stream",
     "text": [
      "The 20 largest values in the 'EstimatedSalary' column are:\n",
      "7      150000\n",
      "211    150000\n",
      "103    149000\n",
      "240    149000\n",
      "168    148000\n",
      "230    147000\n",
      "245    146000\n",
      "253    146000\n",
      "222    144000\n",
      "261    144000\n",
      "268    144000\n",
      "336    144000\n",
      "219    143000\n",
      "239    143000\n",
      "208    142000\n",
      "284    141000\n",
      "313    141000\n",
      "382    139000\n",
      "287    138000\n",
      "320    138000\n",
      "Name: EstimatedSalary, dtype: int64\n"
     ]
    }
   ],
   "source": [
    "# We want to look at the 20 biggest sallarys to see if we have one Outlier that brings up the mean.\n",
    "\n",
    "top_20_values = data[\"EstimatedSalary\"].nlargest(20)\n",
    "column_name = \"EstimatedSalary\"\n",
    "\n",
    "\n",
    "# Print the result\n",
    "print(f\"The 20 largest values in the '{column_name}' column are:\\n{top_20_values}\")"
   ]
  },
  {
   "cell_type": "markdown",
   "id": "bba2ec93-ccd7-4a60-be72-b93a3c5bd61d",
   "metadata": {},
   "source": [
    "#### We can se from the code that it is not an Outlier, so we can trust our data.\n",
    "the sallary has a normal step from the 20 highest income in our dataset. "
   ]
  },
  {
   "cell_type": "markdown",
   "id": "14aef77d-ab39-493b-9e06-a4f38668eff0",
   "metadata": {},
   "source": [
    "### Analyses of the customer that have bought from the campain\n",
    "* The dataset contains of 400 records, 143 of the records did buy.\n",
    "* The conversion rate is 35.75%\n",
    "* The average age of buyers is 46.3 years.\n",
    "* The yongest buyers is 27 years and the oldest is 60\n",
    "* The mean estimated sallary from the Buyers is 86272\n",
    "* The median of estimated income is 70 000, choose to trust my median income after resarch of it. \n",
    "* lovest income is 20 000 from the buyers\n",
    "* highest income from the buyers is 150 000"
   ]
  },
  {
   "cell_type": "markdown",
   "id": "fb5777be-3000-40b4-bbd2-8de2374a952c",
   "metadata": {},
   "source": [
    "### We want to do som further analyses of the dataset to make observations  \n",
    "We want to look at distibution of data between age and Income, for best visulation we have seprated them in to a histogram\n",
    "and a KDE plot. We also want to cheek out the correlation between Age and income to see if we can asume that income raise with age or Vice Versa. we do this as a data cheek to see if we have good data to later make our predicted model.  "
   ]
  },
  {
   "cell_type": "markdown",
   "id": "5d848a79-bb7f-4471-9b62-cd10de628468",
   "metadata": {},
   "source": [
    "### Histogram of Distubution on age "
   ]
  },
  {
   "cell_type": "code",
   "execution_count": 14,
   "id": "dfa9b400-b54c-4094-b164-b7b944c10cd9",
   "metadata": {},
   "outputs": [
    {
     "name": "stderr",
     "output_type": "stream",
     "text": [
      "C:\\Users\\glenn\\anaconda3\\Lib\\site-packages\\seaborn\\_oldcore.py:1119: FutureWarning: use_inf_as_na option is deprecated and will be removed in a future version. Convert inf values to NaN before operating instead.\n",
      "  with pd.option_context('mode.use_inf_as_na', True):\n"
     ]
    },
    {
     "data": {
      "image/png": "[encoded data removed]",
      "text/plain": [
       "<Figure size 800x600 with 1 Axes>"
      ]
     },
     "metadata": {},
     "output_type": "display_data"
    }
   ],
   "source": [
    "import seaborn as sns\n",
    "import matplotlib.pyplot as plt\n",
    "\n",
    "# Create a histogram for age\n",
    "plt.figure(figsize=(8, 6))\n",
    "sns.histplot(data['Age'], bins=20, kde=False, color='skyblue')\n",
    "plt.xlabel('Age')\n",
    "plt.ylabel('Count')\n",
    "plt.title('Age Distribution')\n",
    "plt.show()\n"
   ]
  },
  {
   "cell_type": "markdown",
   "id": "cdb201bd-c38c-4e60-b0e2-dcd566168edc",
   "metadata": {},
   "source": [
    "#### We see no abnormal things from this\n",
    "We can se that we have a nice shaped histogram and that the most data is centred nicely against our median age."
   ]
  },
  {
   "cell_type": "markdown",
   "id": "b61b6fe2-8143-41f9-93b1-60b47e635a7f",
   "metadata": {},
   "source": [
    "### Histogram of distrubution of income "
   ]
  },
  {
   "cell_type": "code",
   "execution_count": 16,
   "id": "87afc3cd-d348-4fb8-a44d-13c8c6e4832a",
   "metadata": {},
   "outputs": [
    {
     "name": "stderr",
     "output_type": "stream",
     "text": [
      "C:\\Users\\glenn\\anaconda3\\Lib\\site-packages\\seaborn\\_oldcore.py:1119: FutureWarning: use_inf_as_na option is deprecated and will be removed in a future version. Convert inf values to NaN before operating instead.\n",
      "  with pd.option_context('mode.use_inf_as_na', True):\n"
     ]
    },
    {
     "data": {
      "image/png": "[encoded data removed]",
      "text/plain": [
       "<Figure size 800x600 with 1 Axes>"
      ]
     },
     "metadata": {},
     "output_type": "display_data"
    }
   ],
   "source": [
    "# Create a density plot for income\n",
    "plt.figure(figsize=(8, 6))\n",
    "sns.kdeplot(data['EstimatedSalary'], fill=True, color='salmon')\n",
    "plt.xlabel('Income')\n",
    "plt.ylabel('Density')\n",
    "plt.title('Income Distribution (KDE)')\n",
    "plt.show()"
   ]
  },
  {
   "cell_type": "markdown",
   "id": "c47f1366-b78c-4a84-8aed-db3882d19119",
   "metadata": {},
   "source": [
    "#### The data follows our median and mean nicly and we can see it has a shape i trust"
   ]
  },
  {
   "cell_type": "code",
   "execution_count": 22,
   "id": "e170126d-37a3-4858-ab54-bf2232c77cf2",
   "metadata": {},
   "outputs": [
    {
     "data": {
      "image/png": "[encoded data removed]",
      "text/plain": [
       "<Figure size 640x480 with 2 Axes>"
      ]
     },
     "metadata": {},
     "output_type": "display_data"
    },
    {
     "name": "stdout",
     "output_type": "stream",
     "text": [
      "                      Age  EstimatedSalary\n",
      "Age              1.000000         0.155238\n",
      "EstimatedSalary  0.155238         1.000000\n"
     ]
    }
   ],
   "source": [
    "\n",
    "import matplotlib.pyplot as plt\n",
    "import seaborn as sns\n",
    "\n",
    "# Use seaborn to create a correlation heatmap\n",
    "correlation = data[['Age', 'EstimatedSalary']].corr()\n",
    "sns.heatmap(correlation, annot=True, cmap='coolwarm')\n",
    "\n",
    "plt.title('Correlation between Age and Income')\n",
    "plt.show()\n",
    "print(correlation)\n",
    "\n",
    "\n"
   ]
  },
  {
   "cell_type": "markdown",
   "id": "c6a91fad-7259-4567-a691-d665b119e53b",
   "metadata": {},
   "source": [
    "#### In the context of our dataset, a correlation of 0.16 between‘age’ and ‘Estimated Sallary’.\n",
    "would suggest that there is a slight tendency for income to increase with age, but the relationship is weak. There are likely other factors at play influencing income, and age alone does not strongly predict income. \r\n",
    "Remember, correlation does not imply causation. So, while there’s a slight positive relationship, it doesn’t mean increasing age causes an increase in income. It’s also important to consider other factors that might be influencing both age and income."
   ]
  },
  {
   "cell_type": "markdown",
   "id": "8da872ca-913c-49db-88d9-f8c76a330866",
   "metadata": {},
   "source": [
    "## Machine learning \n",
    "we want to make a model that can predict wath customer we can get asume buy from us \n",
    "\n"
   ]
  },
  {
   "cell_type": "code",
   "execution_count": 23,
   "id": "ef2e0d84-0235-4346-90f6-f52f2175a651",
   "metadata": {},
   "outputs": [
    {
     "name": "stdout",
     "output_type": "stream",
     "text": [
      "              precision    recall  f1-score   support\n",
      "\n",
      "           0       0.65      1.00      0.79        52\n",
      "           1       0.00      0.00      0.00        28\n",
      "\n",
      "    accuracy                           0.65        80\n",
      "   macro avg       0.33      0.50      0.39        80\n",
      "weighted avg       0.42      0.65      0.51        80\n",
      "\n"
     ]
    },
    {
     "name": "stderr",
     "output_type": "stream",
     "text": [
      "C:\\Users\\glenn\\anaconda3\\Lib\\site-packages\\sklearn\\metrics\\_classification.py:1344: UndefinedMetricWarning: Precision and F-score are ill-defined and being set to 0.0 in labels with no predicted samples. Use `zero_division` parameter to control this behavior.\n",
      "  _warn_prf(average, modifier, msg_start, len(result))\n",
      "C:\\Users\\glenn\\anaconda3\\Lib\\site-packages\\sklearn\\metrics\\_classification.py:1344: UndefinedMetricWarning: Precision and F-score are ill-defined and being set to 0.0 in labels with no predicted samples. Use `zero_division` parameter to control this behavior.\n",
      "  _warn_prf(average, modifier, msg_start, len(result))\n",
      "C:\\Users\\glenn\\anaconda3\\Lib\\site-packages\\sklearn\\metrics\\_classification.py:1344: UndefinedMetricWarning: Precision and F-score are ill-defined and being set to 0.0 in labels with no predicted samples. Use `zero_division` parameter to control this behavior.\n",
      "  _warn_prf(average, modifier, msg_start, len(result))\n"
     ]
    }
   ],
   "source": [
    "from sklearn.model_selection import train_test_split\n",
    "from sklearn.linear_model import LogisticRegression\n",
    "from sklearn.metrics import classification_report\n",
    "\n",
    "\n",
    "\n",
    "# Define the feature matrix X and the target y\n",
    "X = data[['Age', 'EstimatedSalary']]\n",
    "y = data['Purchased']\n",
    "\n",
    "# Split the data into training set and test set\n",
    "X_train, X_test, y_train, y_test = train_test_split(X, y, test_size=0.2, random_state=42)\n",
    "\n",
    "# Initialize the Logistic Regression model\n",
    "model = LogisticRegression()\n",
    "\n",
    "# Fit the model to the training data\n",
    "model.fit(X_train, y_train)\n",
    "\n",
    "# Make predictions on the test data\n",
    "y_pred = model.predict(X_test)\n",
    "\n",
    "# Print the classification report\n",
    "print(classification_report(y_test, y_pred))\n"
   ]
  },
  {
   "cell_type": "markdown",
   "id": "562b45f2-acc7-4896-98ab-a9cd7f5acc66",
   "metadata": {},
   "source": [
    "### Try out a new moodel \n",
    "the last model we tryed was not good , we have precesion score of 0.65 , we neede at least 0.7 to \n",
    "asume it was a good model , therfor we try a new model. We now try a SGDRegressor. "
   ]
  },
  {
   "cell_type": "code",
   "execution_count": 24,
   "id": "58bfdbbd-cf6a-48ae-baf2-c03be0fc6354",
   "metadata": {},
   "outputs": [
    {
     "name": "stdout",
     "output_type": "stream",
     "text": [
      "Mean Squared Error: 1.1363712928558485e+37\n"
     ]
    }
   ],
   "source": [
    "from sklearn.model_selection import train_test_split\n",
    "from sklearn.linear_model import SGDRegressor\n",
    "from sklearn.metrics import mean_squared_error\n",
    "import numpy as np\n",
    "\n",
    "\n",
    "# Define the feature matrix X and the target y\n",
    "X = data[['Age', 'EstimatedSalary']]\n",
    "y = data['Purchased']\n",
    "\n",
    "# Split the data into training set and test set\n",
    "X_train, X_test, y_train, y_test = train_test_split(X, y, test_size=0.2, random_state=42)\n",
    "\n",
    "# Initialize the SGDRegressor model\n",
    "model = SGDRegressor()\n",
    "\n",
    "# Fit the model to the training data\n",
    "model.fit(X_train, y_train)\n",
    "\n",
    "# Make predictions on the test data\n",
    "y_pred = model.predict(X_test)\n",
    "\n",
    "# Calculate and print the mean squared error\n",
    "mse = mean_squared_error(y_test, y_pred)\n",
    "print(f\"Mean Squared Error: {mse}\")\n"
   ]
  },
  {
   "cell_type": "markdown",
   "id": "2e1eee4e-8a86-4f5e-bef5-5fd3b178394e",
   "metadata": {},
   "source": [
    "#### A Mean Squared Error (MSE) of 1.13 can be considered good or not-so-good depending on the context and the specific problem\n",
    "in our case we have a target colum/variabel that just get \"1\" for positive and \"0\" for negative (sale or not sale) then our score is not a good score and we should consider an other model"
   ]
  },
  {
   "cell_type": "markdown",
   "id": "b0efe0b3-89e8-49a5-8977-057ed820e020",
   "metadata": {},
   "source": [
    "#### We try out a Ridge model"
   ]
  },
  {
   "cell_type": "code",
   "execution_count": 26,
   "id": "280c33eb-5c94-4701-9a1a-4f361ec0af73",
   "metadata": {},
   "outputs": [
    {
     "name": "stdout",
     "output_type": "stream",
     "text": [
      "Mean Squared Error: 0.09929793051748957\n",
      "Model Score: 0.5635255801429031\n"
     ]
    }
   ],
   "source": [
    "# Scoring the model \n",
    "from sklearn.model_selection import train_test_split\n",
    "from sklearn.linear_model import Ridge\n",
    "from sklearn.metrics import mean_squared_error\n",
    "import numpy as np\n",
    "\n",
    "\n",
    "# Define the feature matrix X and the target y\n",
    "X = data[['Age', 'EstimatedSalary']]\n",
    "y = data['Purchased']\n",
    "\n",
    "# Split the data into training set and test set\n",
    "X_train, X_test, y_train, y_test = train_test_split(X, y, test_size=0.2, random_state=42)\n",
    "\n",
    "# Initialize the Ridge Regressor model\n",
    "model = Ridge()\n",
    "\n",
    "# Fit the model to the training data\n",
    "model.fit(X_train, y_train)\n",
    "\n",
    "# Make predictions on the test data\n",
    "y_pred = model.predict(X_test)\n",
    "\n",
    "# Calculate and print the mean squared error\n",
    "mse = mean_squared_error(y_test, y_pred)\n",
    "print(f\"Mean Squared Error: {mse}\")\n",
    "\n",
    "# Calculate and print the model score\n",
    "score = model.score(X_test, y_test)\n",
    "print(f\"Model Score: {score}\")\n"
   ]
  },
  {
   "cell_type": "markdown",
   "id": "c4e850d7-bcaf-4563-a5db-4c236aac52a6",
   "metadata": {},
   "source": [
    "#### Not a great score her eather , i think we have to try a random forest model or consider get a bether dataset"
   ]
  },
  {
   "cell_type": "code",
   "execution_count": 28,
   "id": "b7a03c2f-9da8-42f6-9402-0a4ceff929b8",
   "metadata": {},
   "outputs": [
    {
     "name": "stdout",
     "output_type": "stream",
     "text": [
      "Random Forest Classifier Accuracy: 0.90\n",
      "\n",
      "Classification Report:\n",
      "               precision    recall  f1-score   support\n",
      "\n",
      "           0       0.96      0.88      0.92        52\n",
      "           1       0.81      0.93      0.87        28\n",
      "\n",
      "    accuracy                           0.90        80\n",
      "   macro avg       0.89      0.91      0.89        80\n",
      "weighted avg       0.91      0.90      0.90        80\n",
      "\n"
     ]
    }
   ],
   "source": [
    "# We give it a shoot with ramdom forrest\n",
    "\n",
    "X = data[['Age', 'EstimatedSalary']]\n",
    "y = data['Purchased']\n",
    "\n",
    "# Split the data in to train, test and split \n",
    "\n",
    "from sklearn.model_selection import train_test_split\n",
    "X_train, X_test, y_train, y_test = train_test_split(X, y, test_size=0.2, random_state=42)\n",
    "\n",
    "# Intialize Random Forest clasifier\n",
    "\n",
    "from sklearn.ensemble import RandomForestClassifier\n",
    "rf_model = RandomForestClassifier(n_estimators=100, random_state=42)\n",
    "\n",
    "# fit the model on the training data\n",
    "\n",
    "rf_model.fit(X_train, y_train) \n",
    "\n",
    "# predict the value of the test data\n",
    "\n",
    "y_pred = rf_model.predict(X_test) \n",
    "\n",
    "# calculate the accurazy of the model \n",
    "\n",
    "from sklearn.metrics import accuracy_score, classification_report\n",
    "accuracy = accuracy_score(y_test, y_pred)\n",
    "classification_report_str = classification_report(y_test, y_pred)\n",
    "\n",
    "# Display the accuracy and clasification report \n",
    "\n",
    "print(f\"Random Forest Classifier Accuracy: {accuracy:.2f}\")\n",
    "print(\"\\nClassification Report:\\n\", classification_report_str)\n",
    "\n",
    "\n",
    "\n",
    "\n"
   ]
  },
  {
   "cell_type": "markdown",
   "id": "8c856470-c661-44d3-965b-9a2b8140c2e3",
   "metadata": {},
   "source": [
    "### We go for this model . \n",
    "We now got a score of 90 % with our random Forest Classifier, as we asume we are not working with selfdriving cars our health problematic where it would be dangerus to have a fault margin of 10 percent i think we can consider this model as as good as it get whit that kind of data we got ( just 400 rovs)"
   ]
  },
  {
   "cell_type": "markdown",
   "id": "48b1e8a4-5bca-4828-823a-da62ecacd1f1",
   "metadata": {},
   "source": [
    "### Inplentation of our new model and make a prediction \n",
    "We just have the same dataset as we had before the test , so it would not look so good , but we try do put null collums in all the purchased collums make a new csv file and se if we can get som predictions "
   ]
  },
  {
   "cell_type": "code",
   "execution_count": 36,
   "id": "9d9be94f-d5a5-476e-84a8-af66076ffae8",
   "metadata": {},
   "outputs": [],
   "source": [
    "# puting a new value in all of the Purchased colum , we put in a 0 \n",
    "\n",
    "data2[\"Purchased\"] = 0\n",
    "# we save it as a new csv file\n",
    "data2.to_csv(\"updated_social_ads.csv\")"
   ]
  },
  {
   "cell_type": "code",
   "execution_count": null,
   "id": "77f8c469-b0dc-432b-86ec-17fc6fecb1d7",
   "metadata": {},
   "outputs": [],
   "source": []
  },
  {
   "cell_type": "code",
   "execution_count": 50,
   "id": "7d084bc5-a69e-4bac-b1e0-99e66d81b674",
   "metadata": {},
   "outputs": [
    {
     "name": "stdout",
     "output_type": "stream",
     "text": [
      "Predictions made on the entire dataset and added to the DataFrame.\n"
     ]
    }
   ],
   "source": [
    "import pandas as pd\n",
    "# We make a new dataframe with just cero values on purchase collum  \n",
    "data3 = pd.read_csv('updated_social_ads.csv')  \n",
    "\n",
    "X_full = data3[['Age', 'EstimatedSalary']]\n",
    "y_full = data3['Purchased']\n",
    "\n",
    "# We use our model to predict the target values \n",
    "\n",
    "y_full_pred = rf_model.predict(X_full)\n",
    "\n",
    "# Making a new collum for our predictions \n",
    "\n",
    "data3['Predicted_Sale'] = y_full_pred\n",
    "\n",
    "print(\"Predictions made on the entire dataset and added to the DataFrame.\")\n"
   ]
  },
  {
   "cell_type": "code",
   "execution_count": 55,
   "id": "5d8f425b-cb06-4e9a-97d8-c0c611c5a98f",
   "metadata": {},
   "outputs": [
    {
     "data": {
      "text/html": [
       "<div>\n",
       "<style scoped>\n",
       "    .dataframe tbody tr th:only-of-type {\n",
       "        vertical-align: middle;\n",
       "    }\n",
       "\n",
       "    .dataframe tbody tr th {\n",
       "        vertical-align: top;\n",
       "    }\n",
       "\n",
       "    .dataframe thead th {\n",
       "        text-align: right;\n",
       "    }\n",
       "</style>\n",
       "<table border=\"1\" class=\"dataframe\">\n",
       "  <thead>\n",
       "    <tr style=\"text-align: right;\">\n",
       "      <th></th>\n",
       "      <th>Unnamed: 0</th>\n",
       "      <th>Age</th>\n",
       "      <th>EstimatedSalary</th>\n",
       "      <th>Purchased</th>\n",
       "      <th>Predicted_Sale</th>\n",
       "    </tr>\n",
       "  </thead>\n",
       "  <tbody>\n",
       "    <tr>\n",
       "      <th>0</th>\n",
       "      <td>0</td>\n",
       "      <td>19</td>\n",
       "      <td>19000</td>\n",
       "      <td>0</td>\n",
       "      <td>0</td>\n",
       "    </tr>\n",
       "    <tr>\n",
       "      <th>1</th>\n",
       "      <td>1</td>\n",
       "      <td>35</td>\n",
       "      <td>20000</td>\n",
       "      <td>0</td>\n",
       "      <td>0</td>\n",
       "    </tr>\n",
       "    <tr>\n",
       "      <th>2</th>\n",
       "      <td>2</td>\n",
       "      <td>26</td>\n",
       "      <td>43000</td>\n",
       "      <td>0</td>\n",
       "      <td>0</td>\n",
       "    </tr>\n",
       "    <tr>\n",
       "      <th>3</th>\n",
       "      <td>3</td>\n",
       "      <td>27</td>\n",
       "      <td>57000</td>\n",
       "      <td>0</td>\n",
       "      <td>0</td>\n",
       "    </tr>\n",
       "    <tr>\n",
       "      <th>4</th>\n",
       "      <td>4</td>\n",
       "      <td>19</td>\n",
       "      <td>76000</td>\n",
       "      <td>0</td>\n",
       "      <td>0</td>\n",
       "    </tr>\n",
       "    <tr>\n",
       "      <th>5</th>\n",
       "      <td>5</td>\n",
       "      <td>27</td>\n",
       "      <td>58000</td>\n",
       "      <td>0</td>\n",
       "      <td>0</td>\n",
       "    </tr>\n",
       "    <tr>\n",
       "      <th>6</th>\n",
       "      <td>6</td>\n",
       "      <td>27</td>\n",
       "      <td>84000</td>\n",
       "      <td>0</td>\n",
       "      <td>0</td>\n",
       "    </tr>\n",
       "    <tr>\n",
       "      <th>7</th>\n",
       "      <td>7</td>\n",
       "      <td>32</td>\n",
       "      <td>150000</td>\n",
       "      <td>0</td>\n",
       "      <td>1</td>\n",
       "    </tr>\n",
       "    <tr>\n",
       "      <th>8</th>\n",
       "      <td>8</td>\n",
       "      <td>25</td>\n",
       "      <td>33000</td>\n",
       "      <td>0</td>\n",
       "      <td>0</td>\n",
       "    </tr>\n",
       "    <tr>\n",
       "      <th>9</th>\n",
       "      <td>9</td>\n",
       "      <td>35</td>\n",
       "      <td>65000</td>\n",
       "      <td>0</td>\n",
       "      <td>0</td>\n",
       "    </tr>\n",
       "    <tr>\n",
       "      <th>10</th>\n",
       "      <td>10</td>\n",
       "      <td>26</td>\n",
       "      <td>80000</td>\n",
       "      <td>0</td>\n",
       "      <td>0</td>\n",
       "    </tr>\n",
       "    <tr>\n",
       "      <th>11</th>\n",
       "      <td>11</td>\n",
       "      <td>26</td>\n",
       "      <td>52000</td>\n",
       "      <td>0</td>\n",
       "      <td>0</td>\n",
       "    </tr>\n",
       "    <tr>\n",
       "      <th>12</th>\n",
       "      <td>12</td>\n",
       "      <td>20</td>\n",
       "      <td>86000</td>\n",
       "      <td>0</td>\n",
       "      <td>0</td>\n",
       "    </tr>\n",
       "    <tr>\n",
       "      <th>13</th>\n",
       "      <td>13</td>\n",
       "      <td>32</td>\n",
       "      <td>18000</td>\n",
       "      <td>0</td>\n",
       "      <td>0</td>\n",
       "    </tr>\n",
       "    <tr>\n",
       "      <th>14</th>\n",
       "      <td>14</td>\n",
       "      <td>18</td>\n",
       "      <td>82000</td>\n",
       "      <td>0</td>\n",
       "      <td>0</td>\n",
       "    </tr>\n",
       "    <tr>\n",
       "      <th>15</th>\n",
       "      <td>15</td>\n",
       "      <td>29</td>\n",
       "      <td>80000</td>\n",
       "      <td>0</td>\n",
       "      <td>0</td>\n",
       "    </tr>\n",
       "    <tr>\n",
       "      <th>16</th>\n",
       "      <td>16</td>\n",
       "      <td>47</td>\n",
       "      <td>25000</td>\n",
       "      <td>0</td>\n",
       "      <td>1</td>\n",
       "    </tr>\n",
       "    <tr>\n",
       "      <th>17</th>\n",
       "      <td>17</td>\n",
       "      <td>45</td>\n",
       "      <td>26000</td>\n",
       "      <td>0</td>\n",
       "      <td>1</td>\n",
       "    </tr>\n",
       "    <tr>\n",
       "      <th>18</th>\n",
       "      <td>18</td>\n",
       "      <td>46</td>\n",
       "      <td>28000</td>\n",
       "      <td>0</td>\n",
       "      <td>1</td>\n",
       "    </tr>\n",
       "    <tr>\n",
       "      <th>19</th>\n",
       "      <td>19</td>\n",
       "      <td>48</td>\n",
       "      <td>29000</td>\n",
       "      <td>0</td>\n",
       "      <td>1</td>\n",
       "    </tr>\n",
       "  </tbody>\n",
       "</table>\n",
       "</div>"
      ],
      "text/plain": [
       "    Unnamed: 0  Age  EstimatedSalary  Purchased  Predicted_Sale\n",
       "0            0   19            19000          0               0\n",
       "1            1   35            20000          0               0\n",
       "2            2   26            43000          0               0\n",
       "3            3   27            57000          0               0\n",
       "4            4   19            76000          0               0\n",
       "5            5   27            58000          0               0\n",
       "6            6   27            84000          0               0\n",
       "7            7   32           150000          0               1\n",
       "8            8   25            33000          0               0\n",
       "9            9   35            65000          0               0\n",
       "10          10   26            80000          0               0\n",
       "11          11   26            52000          0               0\n",
       "12          12   20            86000          0               0\n",
       "13          13   32            18000          0               0\n",
       "14          14   18            82000          0               0\n",
       "15          15   29            80000          0               0\n",
       "16          16   47            25000          0               1\n",
       "17          17   45            26000          0               1\n",
       "18          18   46            28000          0               1\n",
       "19          19   48            29000          0               1"
      ]
     },
     "execution_count": 55,
     "metadata": {},
     "output_type": "execute_result"
    }
   ],
   "source": [
    "data3.head(20) "
   ]
  },
  {
   "cell_type": "code",
   "execution_count": 56,
   "id": "f1ae5c47-7855-4ee2-810f-8e071333e7f4",
   "metadata": {},
   "outputs": [
    {
     "data": {
      "text/html": [
       "<div>\n",
       "<style scoped>\n",
       "    .dataframe tbody tr th:only-of-type {\n",
       "        vertical-align: middle;\n",
       "    }\n",
       "\n",
       "    .dataframe tbody tr th {\n",
       "        vertical-align: top;\n",
       "    }\n",
       "\n",
       "    .dataframe thead th {\n",
       "        text-align: right;\n",
       "    }\n",
       "</style>\n",
       "<table border=\"1\" class=\"dataframe\">\n",
       "  <thead>\n",
       "    <tr style=\"text-align: right;\">\n",
       "      <th></th>\n",
       "      <th>Age</th>\n",
       "      <th>EstimatedSalary</th>\n",
       "      <th>Purchased</th>\n",
       "    </tr>\n",
       "  </thead>\n",
       "  <tbody>\n",
       "    <tr>\n",
       "      <th>0</th>\n",
       "      <td>19</td>\n",
       "      <td>19000</td>\n",
       "      <td>0</td>\n",
       "    </tr>\n",
       "    <tr>\n",
       "      <th>1</th>\n",
       "      <td>35</td>\n",
       "      <td>20000</td>\n",
       "      <td>0</td>\n",
       "    </tr>\n",
       "    <tr>\n",
       "      <th>2</th>\n",
       "      <td>26</td>\n",
       "      <td>43000</td>\n",
       "      <td>0</td>\n",
       "    </tr>\n",
       "    <tr>\n",
       "      <th>3</th>\n",
       "      <td>27</td>\n",
       "      <td>57000</td>\n",
       "      <td>0</td>\n",
       "    </tr>\n",
       "    <tr>\n",
       "      <th>4</th>\n",
       "      <td>19</td>\n",
       "      <td>76000</td>\n",
       "      <td>0</td>\n",
       "    </tr>\n",
       "    <tr>\n",
       "      <th>5</th>\n",
       "      <td>27</td>\n",
       "      <td>58000</td>\n",
       "      <td>0</td>\n",
       "    </tr>\n",
       "    <tr>\n",
       "      <th>6</th>\n",
       "      <td>27</td>\n",
       "      <td>84000</td>\n",
       "      <td>0</td>\n",
       "    </tr>\n",
       "    <tr>\n",
       "      <th>7</th>\n",
       "      <td>32</td>\n",
       "      <td>150000</td>\n",
       "      <td>1</td>\n",
       "    </tr>\n",
       "    <tr>\n",
       "      <th>8</th>\n",
       "      <td>25</td>\n",
       "      <td>33000</td>\n",
       "      <td>0</td>\n",
       "    </tr>\n",
       "    <tr>\n",
       "      <th>9</th>\n",
       "      <td>35</td>\n",
       "      <td>65000</td>\n",
       "      <td>0</td>\n",
       "    </tr>\n",
       "    <tr>\n",
       "      <th>10</th>\n",
       "      <td>26</td>\n",
       "      <td>80000</td>\n",
       "      <td>0</td>\n",
       "    </tr>\n",
       "    <tr>\n",
       "      <th>11</th>\n",
       "      <td>26</td>\n",
       "      <td>52000</td>\n",
       "      <td>0</td>\n",
       "    </tr>\n",
       "    <tr>\n",
       "      <th>12</th>\n",
       "      <td>20</td>\n",
       "      <td>86000</td>\n",
       "      <td>0</td>\n",
       "    </tr>\n",
       "    <tr>\n",
       "      <th>13</th>\n",
       "      <td>32</td>\n",
       "      <td>18000</td>\n",
       "      <td>0</td>\n",
       "    </tr>\n",
       "    <tr>\n",
       "      <th>14</th>\n",
       "      <td>18</td>\n",
       "      <td>82000</td>\n",
       "      <td>0</td>\n",
       "    </tr>\n",
       "    <tr>\n",
       "      <th>15</th>\n",
       "      <td>29</td>\n",
       "      <td>80000</td>\n",
       "      <td>0</td>\n",
       "    </tr>\n",
       "    <tr>\n",
       "      <th>16</th>\n",
       "      <td>47</td>\n",
       "      <td>25000</td>\n",
       "      <td>1</td>\n",
       "    </tr>\n",
       "    <tr>\n",
       "      <th>17</th>\n",
       "      <td>45</td>\n",
       "      <td>26000</td>\n",
       "      <td>1</td>\n",
       "    </tr>\n",
       "    <tr>\n",
       "      <th>18</th>\n",
       "      <td>46</td>\n",
       "      <td>28000</td>\n",
       "      <td>1</td>\n",
       "    </tr>\n",
       "    <tr>\n",
       "      <th>19</th>\n",
       "      <td>48</td>\n",
       "      <td>29000</td>\n",
       "      <td>1</td>\n",
       "    </tr>\n",
       "  </tbody>\n",
       "</table>\n",
       "</div>"
      ],
      "text/plain": [
       "    Age  EstimatedSalary  Purchased\n",
       "0    19            19000          0\n",
       "1    35            20000          0\n",
       "2    26            43000          0\n",
       "3    27            57000          0\n",
       "4    19            76000          0\n",
       "5    27            58000          0\n",
       "6    27            84000          0\n",
       "7    32           150000          1\n",
       "8    25            33000          0\n",
       "9    35            65000          0\n",
       "10   26            80000          0\n",
       "11   26            52000          0\n",
       "12   20            86000          0\n",
       "13   32            18000          0\n",
       "14   18            82000          0\n",
       "15   29            80000          0\n",
       "16   47            25000          1\n",
       "17   45            26000          1\n",
       "18   46            28000          1\n",
       "19   48            29000          1"
      ]
     },
     "execution_count": 56,
     "metadata": {},
     "output_type": "execute_result"
    }
   ],
   "source": [
    "data.head(20)"
   ]
  },
  {
   "cell_type": "markdown",
   "id": "f8681aa0-8389-4c0e-9f8a-e554fd6b98ef",
   "metadata": {},
   "source": [
    "### The model works \n",
    "we can se now that our models work , it predict that customer on row 7, 16, 17, 18, 19  would do a sale . and in the orginal data set they are a purchased customer"
   ]
  }
 ],
 "metadata": {
  "kernelspec": {
   "display_name": "Python 3 (ipykernel)",
   "language": "python",
   "name": "python3"
  },
  "language_info": {
   "codemirror_mode": {
    "name": "ipython",
    "version": 3
   },
   "file_extension": ".py",
   "mimetype": "text/x-python",
   "name": "python",
   "nbconvert_exporter": "python",
   "pygments_lexer": "ipython3",
   "version": "3.11.7"
  }
 },
 "nbformat": 4,
 "nbformat_minor": 5
}
