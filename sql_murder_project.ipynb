{
 "cells": [
  {
   "cell_type": "markdown",
   "metadata": {},
   "source": [
    "# SQL Murder Mystery"
   ]
  },
  {
   "cell_type": "markdown",
   "metadata": {},
   "source": [
    "### THE PLOT :\n",
    "There's been a Murder in SQL City! The SQL Murder Mystery is designed to be both a self-directed lesson to learn SQL concepts and commands and a fun game for experienced SQL users to solve an intriguing crime.\n",
    "\n",
    "A crime has taken place and the detective needs your help. The detective gave you the crime scene report, but you somehow lost it. You vaguely remember that the crime was a ​murder​ that occurred sometime on ​Jan.15, 2018​ and that it took place in ​SQL City​. Start by retrieving the corresponding crime scene report from the police department’s database."
   ]
  },
  {
   "cell_type": "markdown",
   "metadata": {},
   "source": [
    "![alt text](schema.png)"
   ]
  },
  {
   "cell_type": "code",
   "execution_count": 1,
   "metadata": {},
   "outputs": [],
   "source": [
    "# import what we need \n",
    "import pandas as pd\n",
    "import sqlite3\n"
   ]
  },
  {
   "cell_type": "code",
   "execution_count": 2,
   "metadata": {},
   "outputs": [],
   "source": [
    "# making a sqllite database with the db file for project\n",
    "\n",
    "conn = sqlite3.connect('/Users/glenn/Documents/Visual code workspace/Data Science/Projects/SQL_murder/sql-murder-mystery.db')\n",
    "\n",
    "c = conn.cursor()"
   ]
  },
  {
   "cell_type": "code",
   "execution_count": 3,
   "metadata": {},
   "outputs": [],
   "source": [
    "# We want to make a querry out of the info we got in plot text \n",
    "\n",
    "querry1 = \"\"\"\n",
    "select * \n",
    "from crime_scene_report\n",
    "WHERE type = \"murder\"\n",
    "AND CITY = \"SQL City\"\n",
    "AND date = 20180115\n",
    "\n",
    "\"\"\""
   ]
  },
  {
   "cell_type": "code",
   "execution_count": 4,
   "metadata": {},
   "outputs": [
    {
     "data": {
      "text/html": [
       "<div>\n",
       "<style scoped>\n",
       "    .dataframe tbody tr th:only-of-type {\n",
       "        vertical-align: middle;\n",
       "    }\n",
       "\n",
       "    .dataframe tbody tr th {\n",
       "        vertical-align: top;\n",
       "    }\n",
       "\n",
       "    .dataframe thead th {\n",
       "        text-align: right;\n",
       "    }\n",
       "</style>\n",
       "<table border=\"1\" class=\"dataframe\">\n",
       "  <thead>\n",
       "    <tr style=\"text-align: right;\">\n",
       "      <th></th>\n",
       "      <th>date</th>\n",
       "      <th>type</th>\n",
       "      <th>description</th>\n",
       "      <th>city</th>\n",
       "    </tr>\n",
       "  </thead>\n",
       "  <tbody>\n",
       "    <tr>\n",
       "      <th>0</th>\n",
       "      <td>20180115</td>\n",
       "      <td>murder</td>\n",
       "      <td>Security footage shows that there were 2 witnesses. The first witness lives at the last house on \"Northwestern Dr\". The second witness, named Annabel, lives somewhere on \"Franklin Ave\".</td>\n",
       "      <td>SQL City</td>\n",
       "    </tr>\n",
       "  </tbody>\n",
       "</table>\n",
       "</div>"
      ],
      "text/plain": [
       "       date    type  \\\n",
       "0  20180115  murder   \n",
       "\n",
       "                                                                                                                                                                                 description  \\\n",
       "0  Security footage shows that there were 2 witnesses. The first witness lives at the last house on \"Northwestern Dr\". The second witness, named Annabel, lives somewhere on \"Franklin Ave\".   \n",
       "\n",
       "       city  \n",
       "0  SQL City  "
      ]
     },
     "execution_count": 4,
     "metadata": {},
     "output_type": "execute_result"
    }
   ],
   "source": [
    "# Set the maximum number of characters displayed so we can see the whole description\n",
    "pd.set_option('display.max_colwidth', None)\n",
    "# Make a dataframe out of the querry\n",
    "murders_in_sqlcity = pd.read_sql_query(querry1, conn)\n",
    "murders_in_sqlcity\n"
   ]
  },
  {
   "cell_type": "markdown",
   "metadata": {},
   "source": [
    "OK, we now have more information, we need to make a querry to find the witnesses of the murder. i consentrate on the witness with a known first name"
   ]
  },
  {
   "cell_type": "code",
   "execution_count": 5,
   "metadata": {},
   "outputs": [],
   "source": [
    "querry2 = \"\"\"\n",
    "select * \n",
    "from person\n",
    "WHERE address_street_name = \"Franklin Ave\"\n",
    "AND name LIKE \"%Annabel%\"\n",
    "\n",
    "\"\"\""
   ]
  },
  {
   "cell_type": "code",
   "execution_count": 6,
   "metadata": {},
   "outputs": [
    {
     "data": {
      "text/html": [
       "<div>\n",
       "<style scoped>\n",
       "    .dataframe tbody tr th:only-of-type {\n",
       "        vertical-align: middle;\n",
       "    }\n",
       "\n",
       "    .dataframe tbody tr th {\n",
       "        vertical-align: top;\n",
       "    }\n",
       "\n",
       "    .dataframe thead th {\n",
       "        text-align: right;\n",
       "    }\n",
       "</style>\n",
       "<table border=\"1\" class=\"dataframe\">\n",
       "  <thead>\n",
       "    <tr style=\"text-align: right;\">\n",
       "      <th></th>\n",
       "      <th>id</th>\n",
       "      <th>name</th>\n",
       "      <th>license_id</th>\n",
       "      <th>address_number</th>\n",
       "      <th>address_street_name</th>\n",
       "      <th>ssn</th>\n",
       "    </tr>\n",
       "  </thead>\n",
       "  <tbody>\n",
       "    <tr>\n",
       "      <th>0</th>\n",
       "      <td>16371</td>\n",
       "      <td>Annabel Miller</td>\n",
       "      <td>490173</td>\n",
       "      <td>103</td>\n",
       "      <td>Franklin Ave</td>\n",
       "      <td>318771143</td>\n",
       "    </tr>\n",
       "  </tbody>\n",
       "</table>\n",
       "</div>"
      ],
      "text/plain": [
       "      id            name  license_id  address_number address_street_name  \\\n",
       "0  16371  Annabel Miller      490173             103        Franklin Ave   \n",
       "\n",
       "         ssn  \n",
       "0  318771143  "
      ]
     },
     "execution_count": 6,
     "metadata": {},
     "output_type": "execute_result"
    }
   ],
   "source": [
    "# Set the maximum number of characters displayed so we can see the whole description\n",
    "pd.set_option('display.max_colwidth', None)\n",
    "# Make a dataframe out of the querry\n",
    "witness1 = pd.read_sql_query(querry2, conn)\n",
    "witness1\n"
   ]
  },
  {
   "cell_type": "markdown",
   "metadata": {},
   "source": [
    "We have now found our first witness Annabel Miller, now we need to find the second witness"
   ]
  },
  {
   "cell_type": "code",
   "execution_count": 7,
   "metadata": {},
   "outputs": [],
   "source": [
    "# We know his adress_street_name is Northwestern Dr, we need to find the max address_number\n",
    "querry3 = \"\"\"\n",
    "SELECT * \n",
    "FROM person\n",
    "WHERE address_street_name = \"Northwestern Dr\"\n",
    "AND address_number = (SELECT MAX(address_number) FROM person WHERE address_street_name = \"Northwestern Dr\")\n",
    "\"\"\""
   ]
  },
  {
   "cell_type": "code",
   "execution_count": 8,
   "metadata": {},
   "outputs": [
    {
     "data": {
      "text/html": [
       "<div>\n",
       "<style scoped>\n",
       "    .dataframe tbody tr th:only-of-type {\n",
       "        vertical-align: middle;\n",
       "    }\n",
       "\n",
       "    .dataframe tbody tr th {\n",
       "        vertical-align: top;\n",
       "    }\n",
       "\n",
       "    .dataframe thead th {\n",
       "        text-align: right;\n",
       "    }\n",
       "</style>\n",
       "<table border=\"1\" class=\"dataframe\">\n",
       "  <thead>\n",
       "    <tr style=\"text-align: right;\">\n",
       "      <th></th>\n",
       "      <th>id</th>\n",
       "      <th>name</th>\n",
       "      <th>license_id</th>\n",
       "      <th>address_number</th>\n",
       "      <th>address_street_name</th>\n",
       "      <th>ssn</th>\n",
       "    </tr>\n",
       "  </thead>\n",
       "  <tbody>\n",
       "    <tr>\n",
       "      <th>0</th>\n",
       "      <td>14887</td>\n",
       "      <td>Morty Schapiro</td>\n",
       "      <td>118009</td>\n",
       "      <td>4919</td>\n",
       "      <td>Northwestern Dr</td>\n",
       "      <td>111564949</td>\n",
       "    </tr>\n",
       "  </tbody>\n",
       "</table>\n",
       "</div>"
      ],
      "text/plain": [
       "      id            name  license_id  address_number address_street_name  \\\n",
       "0  14887  Morty Schapiro      118009            4919     Northwestern Dr   \n",
       "\n",
       "         ssn  \n",
       "0  111564949  "
      ]
     },
     "execution_count": 8,
     "metadata": {},
     "output_type": "execute_result"
    }
   ],
   "source": [
    "# Dataframe of witnes2 \n",
    "# Set the maximum number of characters displayed so we can see the whole description\n",
    "pd.set_option('display.max_colwidth', None)\n",
    "# Make a dataframe out of the querry\n",
    "witness2 = pd.read_sql_query(querry3, conn)\n",
    "witness2"
   ]
  },
  {
   "cell_type": "markdown",
   "metadata": {},
   "source": [
    "OK, we have found our second witness, now we need to combine the two witnesses to one dataframe\n"
   ]
  },
  {
   "cell_type": "code",
   "execution_count": 9,
   "metadata": {},
   "outputs": [
    {
     "data": {
      "text/html": [
       "<div>\n",
       "<style scoped>\n",
       "    .dataframe tbody tr th:only-of-type {\n",
       "        vertical-align: middle;\n",
       "    }\n",
       "\n",
       "    .dataframe tbody tr th {\n",
       "        vertical-align: top;\n",
       "    }\n",
       "\n",
       "    .dataframe thead th {\n",
       "        text-align: right;\n",
       "    }\n",
       "</style>\n",
       "<table border=\"1\" class=\"dataframe\">\n",
       "  <thead>\n",
       "    <tr style=\"text-align: right;\">\n",
       "      <th></th>\n",
       "      <th>id</th>\n",
       "      <th>name</th>\n",
       "      <th>license_id</th>\n",
       "      <th>address_number</th>\n",
       "      <th>address_street_name</th>\n",
       "      <th>ssn</th>\n",
       "    </tr>\n",
       "  </thead>\n",
       "  <tbody>\n",
       "    <tr>\n",
       "      <th>0</th>\n",
       "      <td>16371</td>\n",
       "      <td>Annabel Miller</td>\n",
       "      <td>490173</td>\n",
       "      <td>103</td>\n",
       "      <td>Franklin Ave</td>\n",
       "      <td>318771143</td>\n",
       "    </tr>\n",
       "    <tr>\n",
       "      <th>0</th>\n",
       "      <td>14887</td>\n",
       "      <td>Morty Schapiro</td>\n",
       "      <td>118009</td>\n",
       "      <td>4919</td>\n",
       "      <td>Northwestern Dr</td>\n",
       "      <td>111564949</td>\n",
       "    </tr>\n",
       "  </tbody>\n",
       "</table>\n",
       "</div>"
      ],
      "text/plain": [
       "      id            name  license_id  address_number address_street_name  \\\n",
       "0  16371  Annabel Miller      490173             103        Franklin Ave   \n",
       "0  14887  Morty Schapiro      118009            4919     Northwestern Dr   \n",
       "\n",
       "         ssn  \n",
       "0  318771143  \n",
       "0  111564949  "
      ]
     },
     "execution_count": 9,
     "metadata": {},
     "output_type": "execute_result"
    }
   ],
   "source": [
    "witnesses = pd.concat([witness1, witness2])\n",
    "witnesses"
   ]
  },
  {
   "cell_type": "markdown",
   "metadata": {},
   "source": [
    "To find the murder we need to look in to the interview to see if the witness said anything about the murder. We then make a new Querry to see what our witness said about the murder"
   ]
  },
  {
   "cell_type": "code",
   "execution_count": 10,
   "metadata": {},
   "outputs": [],
   "source": [
    "querry4 = \"\"\"\n",
    "SELECT \n",
    "    interview.transcript,\n",
    "    person.name,\n",
    "    person.id\n",
    "FROM interview\n",
    "JOIN person\n",
    "ON interview.person_id=person.id\n",
    "WHERE person.name= \"Annabel Miller\"\n",
    "OR person.name = \"Morty Schapiro\"\n",
    "\"\"\"\n"
   ]
  },
  {
   "cell_type": "code",
   "execution_count": 11,
   "metadata": {},
   "outputs": [
    {
     "data": {
      "text/html": [
       "<div>\n",
       "<style scoped>\n",
       "    .dataframe tbody tr th:only-of-type {\n",
       "        vertical-align: middle;\n",
       "    }\n",
       "\n",
       "    .dataframe tbody tr th {\n",
       "        vertical-align: top;\n",
       "    }\n",
       "\n",
       "    .dataframe thead th {\n",
       "        text-align: right;\n",
       "    }\n",
       "</style>\n",
       "<table border=\"1\" class=\"dataframe\">\n",
       "  <thead>\n",
       "    <tr style=\"text-align: right;\">\n",
       "      <th></th>\n",
       "      <th>transcript</th>\n",
       "      <th>name</th>\n",
       "      <th>id</th>\n",
       "    </tr>\n",
       "  </thead>\n",
       "  <tbody>\n",
       "    <tr>\n",
       "      <th>0</th>\n",
       "      <td>I heard a gunshot and then saw a man run out. He had a \"Get Fit Now Gym\" bag. The membership number on the bag started with \"48Z\". Only gold members have those bags. The man got into a car with a plate that included \"H42W\".</td>\n",
       "      <td>Morty Schapiro</td>\n",
       "      <td>14887</td>\n",
       "    </tr>\n",
       "    <tr>\n",
       "      <th>1</th>\n",
       "      <td>I saw the murder happen, and I recognized the killer from my gym when I was working out last week on January the 9th.</td>\n",
       "      <td>Annabel Miller</td>\n",
       "      <td>16371</td>\n",
       "    </tr>\n",
       "  </tbody>\n",
       "</table>\n",
       "</div>"
      ],
      "text/plain": [
       "                                                                                                                                                                                                                        transcript  \\\n",
       "0  I heard a gunshot and then saw a man run out. He had a \"Get Fit Now Gym\" bag. The membership number on the bag started with \"48Z\". Only gold members have those bags. The man got into a car with a plate that included \"H42W\".   \n",
       "1                                                                                                            I saw the murder happen, and I recognized the killer from my gym when I was working out last week on January the 9th.   \n",
       "\n",
       "             name     id  \n",
       "0  Morty Schapiro  14887  \n",
       "1  Annabel Miller  16371  "
      ]
     },
     "execution_count": 11,
     "metadata": {},
     "output_type": "execute_result"
    }
   ],
   "source": [
    "# Make a dataframe out of what our witness said about the murder in the interview\n",
    "pd.set_option('display.max_colwidth', None)\n",
    "# Make a dataframe out of the querry\n",
    "interview = pd.read_sql_query(querry4, conn)\n",
    "interview"
   ]
  },
  {
   "cell_type": "markdown",
   "metadata": {},
   "source": [
    "### Clues so far \n",
    "We now know that the murder took place on Jan.15, 2018 and that it took place in SQL City. We also know that the Suspect was a man, He is most likley a Gold member at the gym because he has a bag that just gold members And he have a car with licence include H42W. And the suspect has also been at the gym at january the 9th.\n",
    "### Clues to follow : \n",
    "* find goldmembers at the gym and sort on members with 48Z in it\n",
    "* Find License plates that have H42W in it\n",
    "* Cheek out if some of the suspect has been at the gym also at january the 9th"
   ]
  },
  {
   "cell_type": "code",
   "execution_count": 12,
   "metadata": {},
   "outputs": [],
   "source": [
    "# We do a new querry to find the gold members at the gym that have 48Z in it\n",
    "querry5 = \"\"\"\n",
    "SELECT *\n",
    "FROM get_fit_now_member\n",
    "WHERE ID LIKE \"%48Z%\"\n",
    "AND membership_status = \"gold\"\n",
    "\"\"\""
   ]
  },
  {
   "cell_type": "code",
   "execution_count": 13,
   "metadata": {},
   "outputs": [
    {
     "data": {
      "text/html": [
       "<div>\n",
       "<style scoped>\n",
       "    .dataframe tbody tr th:only-of-type {\n",
       "        vertical-align: middle;\n",
       "    }\n",
       "\n",
       "    .dataframe tbody tr th {\n",
       "        vertical-align: top;\n",
       "    }\n",
       "\n",
       "    .dataframe thead th {\n",
       "        text-align: right;\n",
       "    }\n",
       "</style>\n",
       "<table border=\"1\" class=\"dataframe\">\n",
       "  <thead>\n",
       "    <tr style=\"text-align: right;\">\n",
       "      <th></th>\n",
       "      <th>id</th>\n",
       "      <th>person_id</th>\n",
       "      <th>name</th>\n",
       "      <th>membership_start_date</th>\n",
       "      <th>membership_status</th>\n",
       "    </tr>\n",
       "  </thead>\n",
       "  <tbody>\n",
       "    <tr>\n",
       "      <th>0</th>\n",
       "      <td>48Z7A</td>\n",
       "      <td>28819</td>\n",
       "      <td>Joe Germuska</td>\n",
       "      <td>20160305</td>\n",
       "      <td>gold</td>\n",
       "    </tr>\n",
       "    <tr>\n",
       "      <th>1</th>\n",
       "      <td>48Z55</td>\n",
       "      <td>67318</td>\n",
       "      <td>Jeremy Bowers</td>\n",
       "      <td>20160101</td>\n",
       "      <td>gold</td>\n",
       "    </tr>\n",
       "  </tbody>\n",
       "</table>\n",
       "</div>"
      ],
      "text/plain": [
       "      id  person_id           name  membership_start_date membership_status\n",
       "0  48Z7A      28819   Joe Germuska               20160305              gold\n",
       "1  48Z55      67318  Jeremy Bowers               20160101              gold"
      ]
     },
     "execution_count": 13,
     "metadata": {},
     "output_type": "execute_result"
    }
   ],
   "source": [
    "pd.set_option('display.max_colwidth', None)\n",
    "# Make a dataframe out of the querry\n",
    "suspects = pd.read_sql_query(querry5, conn)\n",
    "suspects"
   ]
  },
  {
   "cell_type": "markdown",
   "metadata": {},
   "source": [
    "Nice, we now have narrowed our suspects down to 2, now we need to find if the license plates have H42W in it for some of the suspects and also if the suspects have cheeked in at the gym at the date of the murder and also if the suspect has been there at the gym at january the 9th"
   ]
  },
  {
   "cell_type": "code",
   "execution_count": 14,
   "metadata": {},
   "outputs": [],
   "source": [
    "querry6 = \"\"\"\n",
    "SELECT *\n",
    "FROM drivers_license\n",
    "where plate_number LIKE \"%H42W%\"\n",
    "AND gender = \"male\"\n",
    "\"\"\""
   ]
  },
  {
   "cell_type": "code",
   "execution_count": 15,
   "metadata": {},
   "outputs": [
    {
     "data": {
      "text/html": [
       "<div>\n",
       "<style scoped>\n",
       "    .dataframe tbody tr th:only-of-type {\n",
       "        vertical-align: middle;\n",
       "    }\n",
       "\n",
       "    .dataframe tbody tr th {\n",
       "        vertical-align: top;\n",
       "    }\n",
       "\n",
       "    .dataframe thead th {\n",
       "        text-align: right;\n",
       "    }\n",
       "</style>\n",
       "<table border=\"1\" class=\"dataframe\">\n",
       "  <thead>\n",
       "    <tr style=\"text-align: right;\">\n",
       "      <th></th>\n",
       "      <th>id</th>\n",
       "      <th>age</th>\n",
       "      <th>height</th>\n",
       "      <th>eye_color</th>\n",
       "      <th>hair_color</th>\n",
       "      <th>gender</th>\n",
       "      <th>plate_number</th>\n",
       "      <th>car_make</th>\n",
       "      <th>car_model</th>\n",
       "    </tr>\n",
       "  </thead>\n",
       "  <tbody>\n",
       "    <tr>\n",
       "      <th>0</th>\n",
       "      <td>423327</td>\n",
       "      <td>30</td>\n",
       "      <td>70</td>\n",
       "      <td>brown</td>\n",
       "      <td>brown</td>\n",
       "      <td>male</td>\n",
       "      <td>0H42W2</td>\n",
       "      <td>Chevrolet</td>\n",
       "      <td>Spark LS</td>\n",
       "    </tr>\n",
       "    <tr>\n",
       "      <th>1</th>\n",
       "      <td>664760</td>\n",
       "      <td>21</td>\n",
       "      <td>71</td>\n",
       "      <td>black</td>\n",
       "      <td>black</td>\n",
       "      <td>male</td>\n",
       "      <td>4H42WR</td>\n",
       "      <td>Nissan</td>\n",
       "      <td>Altima</td>\n",
       "    </tr>\n",
       "  </tbody>\n",
       "</table>\n",
       "</div>"
      ],
      "text/plain": [
       "       id  age  height eye_color hair_color gender plate_number   car_make  \\\n",
       "0  423327   30      70     brown      brown   male       0H42W2  Chevrolet   \n",
       "1  664760   21      71     black      black   male       4H42WR     Nissan   \n",
       "\n",
       "  car_model  \n",
       "0  Spark LS  \n",
       "1    Altima  "
      ]
     },
     "execution_count": 15,
     "metadata": {},
     "output_type": "execute_result"
    }
   ],
   "source": [
    "pd.set_option('display.max_colwidth', None)\n",
    "# Make a dataframe out of the querry\n",
    "suspects_licence_plate = pd.read_sql_query(querry6, conn)\n",
    "suspects_licence_plate"
   ]
  },
  {
   "cell_type": "markdown",
   "metadata": {},
   "source": [
    "We got some more information about the suspects, now we need to find if the suspects have been at the gym"
   ]
  },
  {
   "cell_type": "code",
   "execution_count": 16,
   "metadata": {},
   "outputs": [
    {
     "data": {
      "text/html": [
       "<div>\n",
       "<style scoped>\n",
       "    .dataframe tbody tr th:only-of-type {\n",
       "        vertical-align: middle;\n",
       "    }\n",
       "\n",
       "    .dataframe tbody tr th {\n",
       "        vertical-align: top;\n",
       "    }\n",
       "\n",
       "    .dataframe thead th {\n",
       "        text-align: right;\n",
       "    }\n",
       "</style>\n",
       "<table border=\"1\" class=\"dataframe\">\n",
       "  <thead>\n",
       "    <tr style=\"text-align: right;\">\n",
       "      <th></th>\n",
       "      <th>membership_id</th>\n",
       "      <th>check_in_date</th>\n",
       "      <th>check_in_time</th>\n",
       "      <th>check_out_time</th>\n",
       "    </tr>\n",
       "  </thead>\n",
       "  <tbody>\n",
       "  </tbody>\n",
       "</table>\n",
       "</div>"
      ],
      "text/plain": [
       "Empty DataFrame\n",
       "Columns: [membership_id, check_in_date, check_in_time, check_out_time]\n",
       "Index: []"
      ]
     },
     "execution_count": 16,
     "metadata": {},
     "output_type": "execute_result"
    }
   ],
   "source": [
    "# We do a new querry to find out if the suspects have been at the gym\n",
    "querry7 = \"\"\"\n",
    "SELECT *\n",
    "FROM get_fit_now_check_in\n",
    "WHERE check_in_date = 20180115\n",
    "AND membership_id IN (\"48Z7A\", \"48Z55\")\n",
    "\"\"\"\n",
    "pd.set_option('display.max_colwidth', None)\n",
    "# Make a dataframe out of the querry\n",
    "suspects_been_at_gym = pd.read_sql_query(querry7, conn)\n",
    "suspects_been_at_gym\n"
   ]
  },
  {
   "cell_type": "markdown",
   "metadata": {},
   "source": [
    "Hmm , no one of the suspects have cheeked in ordinary at the gym , we update the querry and see if one of them have been there at the gym at january the 9th"
   ]
  },
  {
   "cell_type": "code",
   "execution_count": 17,
   "metadata": {},
   "outputs": [
    {
     "data": {
      "text/html": [
       "<div>\n",
       "<style scoped>\n",
       "    .dataframe tbody tr th:only-of-type {\n",
       "        vertical-align: middle;\n",
       "    }\n",
       "\n",
       "    .dataframe tbody tr th {\n",
       "        vertical-align: top;\n",
       "    }\n",
       "\n",
       "    .dataframe thead th {\n",
       "        text-align: right;\n",
       "    }\n",
       "</style>\n",
       "<table border=\"1\" class=\"dataframe\">\n",
       "  <thead>\n",
       "    <tr style=\"text-align: right;\">\n",
       "      <th></th>\n",
       "      <th>membership_id</th>\n",
       "      <th>check_in_date</th>\n",
       "      <th>check_in_time</th>\n",
       "      <th>check_out_time</th>\n",
       "    </tr>\n",
       "  </thead>\n",
       "  <tbody>\n",
       "    <tr>\n",
       "      <th>0</th>\n",
       "      <td>48Z7A</td>\n",
       "      <td>20180109</td>\n",
       "      <td>1600</td>\n",
       "      <td>1730</td>\n",
       "    </tr>\n",
       "    <tr>\n",
       "      <th>1</th>\n",
       "      <td>48Z55</td>\n",
       "      <td>20180109</td>\n",
       "      <td>1530</td>\n",
       "      <td>1700</td>\n",
       "    </tr>\n",
       "  </tbody>\n",
       "</table>\n",
       "</div>"
      ],
      "text/plain": [
       "  membership_id  check_in_date  check_in_time  check_out_time\n",
       "0         48Z7A       20180109           1600            1730\n",
       "1         48Z55       20180109           1530            1700"
      ]
     },
     "execution_count": 17,
     "metadata": {},
     "output_type": "execute_result"
    }
   ],
   "source": [
    "querry8 = \"\"\"\n",
    "SELECT *\n",
    "FROM get_fit_now_check_in\n",
    "WHERE check_in_date = 20180109\n",
    "AND membership_id IN (\"48Z7A\", \"48Z55\")\n",
    "\"\"\"\n",
    "pd.set_option('display.max_colwidth', None)\n",
    "# Make a dataframe out of the querry\n",
    "suspects_been_at_gym = pd.read_sql_query(querry8, conn)\n",
    "suspects_been_at_gym"
   ]
  },
  {
   "cell_type": "markdown",
   "metadata": {},
   "source": [
    "Not so much help , bouth the suspects have been at the gym at january the 9th, maybe if we can be any smarter if we see when the witnes was at the gym at january the 9th"
   ]
  },
  {
   "cell_type": "code",
   "execution_count": 18,
   "metadata": {},
   "outputs": [
    {
     "data": {
      "text/html": [
       "<div>\n",
       "<style scoped>\n",
       "    .dataframe tbody tr th:only-of-type {\n",
       "        vertical-align: middle;\n",
       "    }\n",
       "\n",
       "    .dataframe tbody tr th {\n",
       "        vertical-align: top;\n",
       "    }\n",
       "\n",
       "    .dataframe thead th {\n",
       "        text-align: right;\n",
       "    }\n",
       "</style>\n",
       "<table border=\"1\" class=\"dataframe\">\n",
       "  <thead>\n",
       "    <tr style=\"text-align: right;\">\n",
       "      <th></th>\n",
       "      <th>id</th>\n",
       "      <th>person_id</th>\n",
       "      <th>name</th>\n",
       "      <th>membership_start_date</th>\n",
       "      <th>membership_status</th>\n",
       "      <th>membership_id</th>\n",
       "      <th>check_in_date</th>\n",
       "      <th>check_in_time</th>\n",
       "      <th>check_out_time</th>\n",
       "    </tr>\n",
       "  </thead>\n",
       "  <tbody>\n",
       "    <tr>\n",
       "      <th>0</th>\n",
       "      <td>90081</td>\n",
       "      <td>16371</td>\n",
       "      <td>Annabel Miller</td>\n",
       "      <td>20160208</td>\n",
       "      <td>gold</td>\n",
       "      <td>90081</td>\n",
       "      <td>20180109</td>\n",
       "      <td>1600</td>\n",
       "      <td>1700</td>\n",
       "    </tr>\n",
       "  </tbody>\n",
       "</table>\n",
       "</div>"
      ],
      "text/plain": [
       "      id  person_id            name  membership_start_date membership_status  \\\n",
       "0  90081      16371  Annabel Miller               20160208              gold   \n",
       "\n",
       "  membership_id  check_in_date  check_in_time  check_out_time  \n",
       "0         90081       20180109           1600            1700  "
      ]
     },
     "execution_count": 18,
     "metadata": {},
     "output_type": "execute_result"
    }
   ],
   "source": [
    "# We see when the witnes was at the gym at january the 9th, but need to find her membership id first\n",
    "querry9= \"\"\"\n",
    "SELECT *\n",
    "FROM get_fit_now_member\n",
    "JOIN get_fit_now_check_in\n",
    "ON get_fit_now_member.id = get_fit_now_check_in.membership_id\n",
    "WHERE name = \"Annabel Miller\"\n",
    "AND check_in_date = 20180109\n",
    "\"\"\"\n",
    "pd.set_option('display.max_colwidth', None)\n",
    "# Make a dataframe out of the querry\n",
    "witnes_at_gym = pd.read_sql_query(querry9, conn)\n",
    "witnes_at_gym"
   ]
  },
  {
   "cell_type": "markdown",
   "metadata": {},
   "source": [
    "OK, then we see our witness has been at the gym at january the 9th at the same time as both of the suspects, so we need to find out if just one of them has been there at the day of murder, ur hope then is in the facebook event."
   ]
  },
  {
   "cell_type": "code",
   "execution_count": 19,
   "metadata": {},
   "outputs": [
    {
     "data": {
      "text/html": [
       "<div>\n",
       "<style scoped>\n",
       "    .dataframe tbody tr th:only-of-type {\n",
       "        vertical-align: middle;\n",
       "    }\n",
       "\n",
       "    .dataframe tbody tr th {\n",
       "        vertical-align: top;\n",
       "    }\n",
       "\n",
       "    .dataframe thead th {\n",
       "        text-align: right;\n",
       "    }\n",
       "</style>\n",
       "<table border=\"1\" class=\"dataframe\">\n",
       "  <thead>\n",
       "    <tr style=\"text-align: right;\">\n",
       "      <th></th>\n",
       "      <th>person_id</th>\n",
       "      <th>event_id</th>\n",
       "      <th>event_name</th>\n",
       "      <th>date</th>\n",
       "      <th>id</th>\n",
       "      <th>person_id</th>\n",
       "      <th>name</th>\n",
       "      <th>membership_start_date</th>\n",
       "      <th>membership_status</th>\n",
       "    </tr>\n",
       "  </thead>\n",
       "  <tbody>\n",
       "    <tr>\n",
       "      <th>0</th>\n",
       "      <td>67318</td>\n",
       "      <td>4719</td>\n",
       "      <td>The Funky Grooves Tour</td>\n",
       "      <td>20180115</td>\n",
       "      <td>48Z55</td>\n",
       "      <td>67318</td>\n",
       "      <td>Jeremy Bowers</td>\n",
       "      <td>20160101</td>\n",
       "      <td>gold</td>\n",
       "    </tr>\n",
       "  </tbody>\n",
       "</table>\n",
       "</div>"
      ],
      "text/plain": [
       "   person_id  event_id              event_name      date     id  person_id  \\\n",
       "0      67318      4719  The Funky Grooves Tour  20180115  48Z55      67318   \n",
       "\n",
       "            name  membership_start_date membership_status  \n",
       "0  Jeremy Bowers               20160101              gold  "
      ]
     },
     "execution_count": 19,
     "metadata": {},
     "output_type": "execute_result"
    }
   ],
   "source": [
    "querry10 = \"\"\"\n",
    "SELECT *\n",
    "FROM facebook_event_checkin\n",
    "JOIN get_fit_now_member ON facebook_event_checkin.person_id = get_fit_now_member.person_id\n",
    "WHERE date LIKE '20180115'\n",
    "AND get_fit_now_member.id IN('48Z55', '48Z7A')\n",
    "\"\"\"\n",
    "pd.set_option('display.max_colwidth', None)\n",
    "# Make a dataframe out of the querry\n",
    "suspect_at_gym_murder_date = pd.read_sql_query(querry10, conn)\n",
    "suspect_at_gym_murder_date"
   ]
  },
  {
   "cell_type": "markdown",
   "metadata": {},
   "source": [
    "### Suspect is placed at the murder site\n",
    "We can now see that the suspect is placed at the murder site, from the two suspects, the suspect named Jeremy Bowers has been at the gym at the same time as the murder, he has a car registered with the letters H42W in it, and he has been at the gym at january the 9th whwere also the witness saw him.\n",
    "The other suspect has not been at the gym at the same time as the murder take place.\n",
    "\n",
    "# Jeremy Bowers is the  Suspected murder."
   ]
  },
  {
   "cell_type": "markdown",
   "metadata": {},
   "source": [
    "We need to arrest Jeremy Bowers, so we need to find his adress and all other personal information"
   ]
  },
  {
   "cell_type": "code",
   "execution_count": 20,
   "metadata": {},
   "outputs": [
    {
     "data": {
      "text/html": [
       "<div>\n",
       "<style scoped>\n",
       "    .dataframe tbody tr th:only-of-type {\n",
       "        vertical-align: middle;\n",
       "    }\n",
       "\n",
       "    .dataframe tbody tr th {\n",
       "        vertical-align: top;\n",
       "    }\n",
       "\n",
       "    .dataframe thead th {\n",
       "        text-align: right;\n",
       "    }\n",
       "</style>\n",
       "<table border=\"1\" class=\"dataframe\">\n",
       "  <thead>\n",
       "    <tr style=\"text-align: right;\">\n",
       "      <th></th>\n",
       "      <th>id</th>\n",
       "      <th>name</th>\n",
       "      <th>license_id</th>\n",
       "      <th>address_number</th>\n",
       "      <th>address_street_name</th>\n",
       "      <th>ssn</th>\n",
       "      <th>id</th>\n",
       "      <th>age</th>\n",
       "      <th>height</th>\n",
       "      <th>eye_color</th>\n",
       "      <th>hair_color</th>\n",
       "      <th>gender</th>\n",
       "      <th>plate_number</th>\n",
       "      <th>car_make</th>\n",
       "      <th>car_model</th>\n",
       "      <th>ssn</th>\n",
       "      <th>annual_income</th>\n",
       "    </tr>\n",
       "  </thead>\n",
       "  <tbody>\n",
       "    <tr>\n",
       "      <th>0</th>\n",
       "      <td>67318</td>\n",
       "      <td>Jeremy Bowers</td>\n",
       "      <td>423327</td>\n",
       "      <td>530</td>\n",
       "      <td>Washington Pl, Apt 3A</td>\n",
       "      <td>871539279</td>\n",
       "      <td>423327</td>\n",
       "      <td>30</td>\n",
       "      <td>70</td>\n",
       "      <td>brown</td>\n",
       "      <td>brown</td>\n",
       "      <td>male</td>\n",
       "      <td>0H42W2</td>\n",
       "      <td>Chevrolet</td>\n",
       "      <td>Spark LS</td>\n",
       "      <td>871539279</td>\n",
       "      <td>10500</td>\n",
       "    </tr>\n",
       "  </tbody>\n",
       "</table>\n",
       "</div>"
      ],
      "text/plain": [
       "      id           name  license_id  address_number    address_street_name  \\\n",
       "0  67318  Jeremy Bowers      423327             530  Washington Pl, Apt 3A   \n",
       "\n",
       "         ssn      id  age  height eye_color hair_color gender plate_number  \\\n",
       "0  871539279  423327   30      70     brown      brown   male       0H42W2   \n",
       "\n",
       "    car_make car_model        ssn  annual_income  \n",
       "0  Chevrolet  Spark LS  871539279          10500  "
      ]
     },
     "execution_count": 20,
     "metadata": {},
     "output_type": "execute_result"
    }
   ],
   "source": [
    "# We do a new querry to get all information posible on Jeremy \n",
    "querry11 = \"\"\"\n",
    "SELECT * \n",
    "FROM person\n",
    "JOIN drivers_license\n",
    "ON person.license_id = drivers_license.id\n",
    "JOIN income\n",
    "ON person.ssn = income.ssn\n",
    "WHERE name = \"Jeremy Bowers\"\n",
    "\"\"\"\n",
    "The_murder = pd.read_sql_query(querry11, conn)\n",
    "The_murder"
   ]
  },
  {
   "cell_type": "code",
   "execution_count": 21,
   "metadata": {},
   "outputs": [
    {
     "data": {
      "text/html": [
       "<div>\n",
       "<style scoped>\n",
       "    .dataframe tbody tr th:only-of-type {\n",
       "        vertical-align: middle;\n",
       "    }\n",
       "\n",
       "    .dataframe tbody tr th {\n",
       "        vertical-align: top;\n",
       "    }\n",
       "\n",
       "    .dataframe thead th {\n",
       "        text-align: right;\n",
       "    }\n",
       "</style>\n",
       "<table border=\"1\" class=\"dataframe\">\n",
       "  <thead>\n",
       "    <tr style=\"text-align: right;\">\n",
       "      <th></th>\n",
       "      <th>value</th>\n",
       "    </tr>\n",
       "  </thead>\n",
       "  <tbody>\n",
       "    <tr>\n",
       "      <th>0</th>\n",
       "      <td>Congrats, you found the murderer! But wait, there's more... If you think you're up for a challenge, try querying the interview transcript of the murderer to find the real villain behind this crime. If you feel especially confident in your SQL skills, try to complete this final step with no more than 2 queries. Use this same INSERT statement with your new suspect to check your answer.</td>\n",
       "    </tr>\n",
       "  </tbody>\n",
       "</table>\n",
       "</div>"
      ],
      "text/plain": [
       "                                                                                                                                                                                                                                                                                                                                                                                                value\n",
       "0  Congrats, you found the murderer! But wait, there's more... If you think you're up for a challenge, try querying the interview transcript of the murderer to find the real villain behind this crime. If you feel especially confident in your SQL skills, try to complete this final step with no more than 2 queries. Use this same INSERT statement with your new suspect to check your answer."
      ]
     },
     "execution_count": 21,
     "metadata": {},
     "output_type": "execute_result"
    }
   ],
   "source": [
    "querry12 = \"\"\"\n",
    "SELECT value FROM solution;\n",
    "\"\"\"\n",
    "pd.set_option('display.max_colwidth', None)\n",
    "# Make a dataframe out of the querry\n",
    "solution = pd.read_sql_query(querry12, conn)\n",
    "solution\n",
    "\n"
   ]
  },
  {
   "cell_type": "markdown",
   "metadata": {},
   "source": [
    "OK, so it is more to our plot than what we thoutgt, we need to read the Transcript from the murder. "
   ]
  },
  {
   "cell_type": "code",
   "execution_count": 22,
   "metadata": {},
   "outputs": [
    {
     "data": {
      "text/html": [
       "<div>\n",
       "<style scoped>\n",
       "    .dataframe tbody tr th:only-of-type {\n",
       "        vertical-align: middle;\n",
       "    }\n",
       "\n",
       "    .dataframe tbody tr th {\n",
       "        vertical-align: top;\n",
       "    }\n",
       "\n",
       "    .dataframe thead th {\n",
       "        text-align: right;\n",
       "    }\n",
       "</style>\n",
       "<table border=\"1\" class=\"dataframe\">\n",
       "  <thead>\n",
       "    <tr style=\"text-align: right;\">\n",
       "      <th></th>\n",
       "      <th>person_id</th>\n",
       "      <th>transcript</th>\n",
       "    </tr>\n",
       "  </thead>\n",
       "  <tbody>\n",
       "    <tr>\n",
       "      <th>0</th>\n",
       "      <td>67318</td>\n",
       "      <td>I was hired by a woman with a lot of money. I don't know her name but I know she's around 5'5\" (65\") or 5'7\" (67\"). She has red hair and she drives a Tesla Model S. I know that she attended the SQL Symphony Concert 3 times in December 2017.\\n</td>\n",
       "    </tr>\n",
       "  </tbody>\n",
       "</table>\n",
       "</div>"
      ],
      "text/plain": [
       "   person_id  \\\n",
       "0      67318   \n",
       "\n",
       "                                                                                                                                                                                                                                           transcript  \n",
       "0  I was hired by a woman with a lot of money. I don't know her name but I know she's around 5'5\" (65\") or 5'7\" (67\"). She has red hair and she drives a Tesla Model S. I know that she attended the SQL Symphony Concert 3 times in December 2017.\\n  "
      ]
     },
     "execution_count": 22,
     "metadata": {},
     "output_type": "execute_result"
    }
   ],
   "source": [
    "querry13 = \"\"\"\n",
    "SELECT * FROM interview\n",
    "WHERE person_id = 67318\n",
    "\"\"\"\n",
    "pd.set_option('display.max_colwidth', None)\n",
    "# Make a dataframe out of the querry\n",
    "transcript_murder = pd.read_sql_query(querry13, conn)\n",
    "transcript_murder"
   ]
  },
  {
   "cell_type": "markdown",
   "metadata": {},
   "source": [
    "Then we have more information about the suspect that order the murder, we can make a new querry and use the information from the murder to find the right person in one more querry\n"
   ]
  },
  {
   "cell_type": "code",
   "execution_count": 24,
   "metadata": {},
   "outputs": [
    {
     "data": {
      "text/html": [
       "<div>\n",
       "<style scoped>\n",
       "    .dataframe tbody tr th:only-of-type {\n",
       "        vertical-align: middle;\n",
       "    }\n",
       "\n",
       "    .dataframe tbody tr th {\n",
       "        vertical-align: top;\n",
       "    }\n",
       "\n",
       "    .dataframe thead th {\n",
       "        text-align: right;\n",
       "    }\n",
       "</style>\n",
       "<table border=\"1\" class=\"dataframe\">\n",
       "  <thead>\n",
       "    <tr style=\"text-align: right;\">\n",
       "      <th></th>\n",
       "      <th>event_name</th>\n",
       "      <th>date</th>\n",
       "      <th>person_id</th>\n",
       "      <th>name</th>\n",
       "      <th>height</th>\n",
       "      <th>annual_income</th>\n",
       "      <th>car_make</th>\n",
       "      <th>person_id</th>\n",
       "      <th>hair_color</th>\n",
       "    </tr>\n",
       "  </thead>\n",
       "  <tbody>\n",
       "    <tr>\n",
       "      <th>0</th>\n",
       "      <td>SQL Symphony Concert</td>\n",
       "      <td>20171206</td>\n",
       "      <td>99716</td>\n",
       "      <td>Miranda Priestly</td>\n",
       "      <td>66</td>\n",
       "      <td>310000</td>\n",
       "      <td>Tesla</td>\n",
       "      <td>99716</td>\n",
       "      <td>red</td>\n",
       "    </tr>\n",
       "    <tr>\n",
       "      <th>1</th>\n",
       "      <td>SQL Symphony Concert</td>\n",
       "      <td>20171212</td>\n",
       "      <td>99716</td>\n",
       "      <td>Miranda Priestly</td>\n",
       "      <td>66</td>\n",
       "      <td>310000</td>\n",
       "      <td>Tesla</td>\n",
       "      <td>99716</td>\n",
       "      <td>red</td>\n",
       "    </tr>\n",
       "    <tr>\n",
       "      <th>2</th>\n",
       "      <td>SQL Symphony Concert</td>\n",
       "      <td>20171229</td>\n",
       "      <td>99716</td>\n",
       "      <td>Miranda Priestly</td>\n",
       "      <td>66</td>\n",
       "      <td>310000</td>\n",
       "      <td>Tesla</td>\n",
       "      <td>99716</td>\n",
       "      <td>red</td>\n",
       "    </tr>\n",
       "  </tbody>\n",
       "</table>\n",
       "</div>"
      ],
      "text/plain": [
       "             event_name      date  person_id              name  height  \\\n",
       "0  SQL Symphony Concert  20171206      99716  Miranda Priestly      66   \n",
       "1  SQL Symphony Concert  20171212      99716  Miranda Priestly      66   \n",
       "2  SQL Symphony Concert  20171229      99716  Miranda Priestly      66   \n",
       "\n",
       "   annual_income car_make  person_id hair_color  \n",
       "0         310000    Tesla      99716        red  \n",
       "1         310000    Tesla      99716        red  \n",
       "2         310000    Tesla      99716        red  "
      ]
     },
     "execution_count": 24,
     "metadata": {},
     "output_type": "execute_result"
    }
   ],
   "source": [
    "querry14 = \"\"\" \n",
    "SELECT event_name, date, person_id, name, height, annual_income, car_make, person_id, hair_color\n",
    "FROM facebook_event_checkin\n",
    "JOIN person\n",
    "ON facebook_event_checkin.person_id = person.id\n",
    "JOIN drivers_license\n",
    "ON person.license_id = drivers_license.id\n",
    "JOIN income\n",
    "ON person.ssn = income.ssn\n",
    "WHERE event_name LIKE \"Sql%\"\n",
    "AND date LIKE \"%201712__\"\n",
    "AND drivers_license.hair_color = \"red\"\n",
    "AND drivers_license.gender = \"female\"\n",
    "AND drivers_license.car_make = \"Tesla\"\n",
    "\"\"\"\n",
    "pd.set_option('display.max_colwidth', None)\n",
    "# Make a dataframe out of the querry\n",
    "murder_hire = pd.read_sql_query(querry14, conn)\n",
    "murder_hire"
   ]
  },
  {
   "cell_type": "markdown",
   "metadata": {},
   "source": [
    "# Miranda Priestly is the one how has hired the murderer\n",
    "We have found out that she attended the SQL Symhony consert 3 times in desember 2017, she has a red hair and a Tesla car, she has high annual income and she is a female, and she match the height"
   ]
  },
  {
   "cell_type": "markdown",
   "metadata": {},
   "source": []
  }
 ],
 "metadata": {
  "kernelspec": {
   "display_name": "Python 3",
   "language": "python",
   "name": "python3"
  },
  "language_info": {
   "codemirror_mode": {
    "name": "ipython",
    "version": 3
   },
   "file_extension": ".py",
   "mimetype": "text/x-python",
   "name": "python",
   "nbconvert_exporter": "python",
   "pygments_lexer": "ipython3",
   "version": "3.12.3"
  }
 },
 "nbformat": 4,
 "nbformat_minor": 2
}
